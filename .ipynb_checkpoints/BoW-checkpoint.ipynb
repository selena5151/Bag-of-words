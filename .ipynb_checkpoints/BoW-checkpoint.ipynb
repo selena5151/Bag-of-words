{
 "cells": [
  {
   "cell_type": "code",
   "execution_count": 1,
   "id": "f782a5e3",
   "metadata": {
    "id": "f782a5e3"
   },
   "outputs": [],
   "source": [
    "# Imports\n",
    "import pandas as pd\n",
    "import matplotlib.pyplot as plt\n",
    "import seaborn as sns\n",
    "from scipy import stats\n",
    "\n",
    "# Supress the unnumbered hordes of warnings that make output completely unreadable\n",
    "import warnings\n",
    "warnings.filterwarnings(\"ignore\", category=FutureWarning)"
   ]
  },
  {
   "cell_type": "code",
   "execution_count": 2,
   "id": "43490ff6",
   "metadata": {
    "id": "43490ff6"
   },
   "outputs": [],
   "source": [
    "#讀入資料\n",
    "docword_column_names = ['docID', 'wordID', 'count']\n",
    "docword_data = pd.read_csv('docword.kos.txt', delim_whitespace=True, header=None, names=docword_column_names)"
   ]
  },
  {
   "cell_type": "code",
   "execution_count": 3,
   "id": "fcdf8b23",
   "metadata": {
    "colab": {
     "base_uri": "https://localhost:8080/",
     "height": 206
    },
    "id": "fcdf8b23",
    "outputId": "eccf2d5a-b3c6-4bc4-d69e-21d6a790d406"
   },
   "outputs": [
    {
     "data": {
      "text/html": [
       "<div>\n",
       "<style scoped>\n",
       "    .dataframe tbody tr th:only-of-type {\n",
       "        vertical-align: middle;\n",
       "    }\n",
       "\n",
       "    .dataframe tbody tr th {\n",
       "        vertical-align: top;\n",
       "    }\n",
       "\n",
       "    .dataframe thead th {\n",
       "        text-align: right;\n",
       "    }\n",
       "</style>\n",
       "<table border=\"1\" class=\"dataframe\">\n",
       "  <thead>\n",
       "    <tr style=\"text-align: right;\">\n",
       "      <th></th>\n",
       "      <th>docID</th>\n",
       "      <th>wordID</th>\n",
       "      <th>count</th>\n",
       "    </tr>\n",
       "  </thead>\n",
       "  <tbody>\n",
       "    <tr>\n",
       "      <th>0</th>\n",
       "      <td>3430</td>\n",
       "      <td>NaN</td>\n",
       "      <td>NaN</td>\n",
       "    </tr>\n",
       "    <tr>\n",
       "      <th>1</th>\n",
       "      <td>6906</td>\n",
       "      <td>NaN</td>\n",
       "      <td>NaN</td>\n",
       "    </tr>\n",
       "    <tr>\n",
       "      <th>2</th>\n",
       "      <td>353160</td>\n",
       "      <td>NaN</td>\n",
       "      <td>NaN</td>\n",
       "    </tr>\n",
       "    <tr>\n",
       "      <th>3</th>\n",
       "      <td>1</td>\n",
       "      <td>61.0</td>\n",
       "      <td>2.0</td>\n",
       "    </tr>\n",
       "    <tr>\n",
       "      <th>4</th>\n",
       "      <td>1</td>\n",
       "      <td>76.0</td>\n",
       "      <td>1.0</td>\n",
       "    </tr>\n",
       "  </tbody>\n",
       "</table>\n",
       "</div>"
      ],
      "text/plain": [
       "    docID  wordID  count\n",
       "0    3430     NaN    NaN\n",
       "1    6906     NaN    NaN\n",
       "2  353160     NaN    NaN\n",
       "3       1    61.0    2.0\n",
       "4       1    76.0    1.0"
      ]
     },
     "execution_count": 3,
     "metadata": {},
     "output_type": "execute_result"
    }
   ],
   "source": [
    "docword_data.head()"
   ]
  },
  {
   "cell_type": "code",
   "execution_count": 4,
   "id": "ed8c8432",
   "metadata": {
    "colab": {
     "base_uri": "https://localhost:8080/",
     "height": 206
    },
    "id": "ed8c8432",
    "outputId": "e43a8a44-d5d6-451b-e3eb-1d3541385a08"
   },
   "outputs": [],
   "source": [
    "#將空值拿掉並將wordid轉成int格式\n",
    "docword_data = docword_data.dropna(axis=0, how='any')\n",
    "docword_data['wordID'] = docword_data['wordID'].astype('int')"
   ]
  },
  {
   "cell_type": "code",
   "execution_count": 5,
   "id": "3740ca2a",
   "metadata": {},
   "outputs": [
    {
     "data": {
      "text/html": [
       "<div>\n",
       "<style scoped>\n",
       "    .dataframe tbody tr th:only-of-type {\n",
       "        vertical-align: middle;\n",
       "    }\n",
       "\n",
       "    .dataframe tbody tr th {\n",
       "        vertical-align: top;\n",
       "    }\n",
       "\n",
       "    .dataframe thead th {\n",
       "        text-align: right;\n",
       "    }\n",
       "</style>\n",
       "<table border=\"1\" class=\"dataframe\">\n",
       "  <thead>\n",
       "    <tr style=\"text-align: right;\">\n",
       "      <th></th>\n",
       "      <th>docID</th>\n",
       "      <th>wordID</th>\n",
       "      <th>count</th>\n",
       "    </tr>\n",
       "  </thead>\n",
       "  <tbody>\n",
       "    <tr>\n",
       "      <th>3</th>\n",
       "      <td>1</td>\n",
       "      <td>61</td>\n",
       "      <td>2.0</td>\n",
       "    </tr>\n",
       "    <tr>\n",
       "      <th>4</th>\n",
       "      <td>1</td>\n",
       "      <td>76</td>\n",
       "      <td>1.0</td>\n",
       "    </tr>\n",
       "    <tr>\n",
       "      <th>5</th>\n",
       "      <td>1</td>\n",
       "      <td>89</td>\n",
       "      <td>1.0</td>\n",
       "    </tr>\n",
       "    <tr>\n",
       "      <th>6</th>\n",
       "      <td>1</td>\n",
       "      <td>211</td>\n",
       "      <td>1.0</td>\n",
       "    </tr>\n",
       "    <tr>\n",
       "      <th>7</th>\n",
       "      <td>1</td>\n",
       "      <td>296</td>\n",
       "      <td>1.0</td>\n",
       "    </tr>\n",
       "  </tbody>\n",
       "</table>\n",
       "</div>"
      ],
      "text/plain": [
       "   docID  wordID  count\n",
       "3      1      61    2.0\n",
       "4      1      76    1.0\n",
       "5      1      89    1.0\n",
       "6      1     211    1.0\n",
       "7      1     296    1.0"
      ]
     },
     "execution_count": 5,
     "metadata": {},
     "output_type": "execute_result"
    }
   ],
   "source": [
    "docword_data.head()"
   ]
  },
  {
   "cell_type": "code",
   "execution_count": 6,
   "id": "5ed0a453",
   "metadata": {
    "id": "5ed0a453"
   },
   "outputs": [],
   "source": [
    "#轉置資料集\n",
    "df = docword_data.pivot(index='docID', columns='wordID', values='count')"
   ]
  },
  {
   "cell_type": "code",
   "execution_count": 7,
   "id": "084d1b23",
   "metadata": {
    "colab": {
     "base_uri": "https://localhost:8080/",
     "height": 267
    },
    "id": "084d1b23",
    "outputId": "71c121a7-a43d-46e8-97c6-c206de607230"
   },
   "outputs": [
    {
     "data": {
      "text/html": [
       "<div>\n",
       "<style scoped>\n",
       "    .dataframe tbody tr th:only-of-type {\n",
       "        vertical-align: middle;\n",
       "    }\n",
       "\n",
       "    .dataframe tbody tr th {\n",
       "        vertical-align: top;\n",
       "    }\n",
       "\n",
       "    .dataframe thead th {\n",
       "        text-align: right;\n",
       "    }\n",
       "</style>\n",
       "<table border=\"1\" class=\"dataframe\">\n",
       "  <thead>\n",
       "    <tr style=\"text-align: right;\">\n",
       "      <th>wordID</th>\n",
       "      <th>1</th>\n",
       "      <th>2</th>\n",
       "      <th>3</th>\n",
       "      <th>4</th>\n",
       "      <th>5</th>\n",
       "      <th>6</th>\n",
       "      <th>7</th>\n",
       "      <th>8</th>\n",
       "      <th>9</th>\n",
       "      <th>10</th>\n",
       "      <th>...</th>\n",
       "      <th>6897</th>\n",
       "      <th>6898</th>\n",
       "      <th>6899</th>\n",
       "      <th>6900</th>\n",
       "      <th>6901</th>\n",
       "      <th>6902</th>\n",
       "      <th>6903</th>\n",
       "      <th>6904</th>\n",
       "      <th>6905</th>\n",
       "      <th>6906</th>\n",
       "    </tr>\n",
       "    <tr>\n",
       "      <th>docID</th>\n",
       "      <th></th>\n",
       "      <th></th>\n",
       "      <th></th>\n",
       "      <th></th>\n",
       "      <th></th>\n",
       "      <th></th>\n",
       "      <th></th>\n",
       "      <th></th>\n",
       "      <th></th>\n",
       "      <th></th>\n",
       "      <th></th>\n",
       "      <th></th>\n",
       "      <th></th>\n",
       "      <th></th>\n",
       "      <th></th>\n",
       "      <th></th>\n",
       "      <th></th>\n",
       "      <th></th>\n",
       "      <th></th>\n",
       "      <th></th>\n",
       "      <th></th>\n",
       "    </tr>\n",
       "  </thead>\n",
       "  <tbody>\n",
       "    <tr>\n",
       "      <th>1</th>\n",
       "      <td>NaN</td>\n",
       "      <td>NaN</td>\n",
       "      <td>NaN</td>\n",
       "      <td>NaN</td>\n",
       "      <td>NaN</td>\n",
       "      <td>NaN</td>\n",
       "      <td>NaN</td>\n",
       "      <td>NaN</td>\n",
       "      <td>NaN</td>\n",
       "      <td>NaN</td>\n",
       "      <td>...</td>\n",
       "      <td>NaN</td>\n",
       "      <td>NaN</td>\n",
       "      <td>NaN</td>\n",
       "      <td>NaN</td>\n",
       "      <td>NaN</td>\n",
       "      <td>NaN</td>\n",
       "      <td>NaN</td>\n",
       "      <td>NaN</td>\n",
       "      <td>1.0</td>\n",
       "      <td>NaN</td>\n",
       "    </tr>\n",
       "    <tr>\n",
       "      <th>2</th>\n",
       "      <td>NaN</td>\n",
       "      <td>NaN</td>\n",
       "      <td>NaN</td>\n",
       "      <td>NaN</td>\n",
       "      <td>NaN</td>\n",
       "      <td>NaN</td>\n",
       "      <td>NaN</td>\n",
       "      <td>NaN</td>\n",
       "      <td>NaN</td>\n",
       "      <td>NaN</td>\n",
       "      <td>...</td>\n",
       "      <td>NaN</td>\n",
       "      <td>NaN</td>\n",
       "      <td>NaN</td>\n",
       "      <td>NaN</td>\n",
       "      <td>NaN</td>\n",
       "      <td>NaN</td>\n",
       "      <td>NaN</td>\n",
       "      <td>NaN</td>\n",
       "      <td>NaN</td>\n",
       "      <td>NaN</td>\n",
       "    </tr>\n",
       "    <tr>\n",
       "      <th>3</th>\n",
       "      <td>NaN</td>\n",
       "      <td>NaN</td>\n",
       "      <td>NaN</td>\n",
       "      <td>NaN</td>\n",
       "      <td>NaN</td>\n",
       "      <td>NaN</td>\n",
       "      <td>NaN</td>\n",
       "      <td>NaN</td>\n",
       "      <td>NaN</td>\n",
       "      <td>NaN</td>\n",
       "      <td>...</td>\n",
       "      <td>NaN</td>\n",
       "      <td>NaN</td>\n",
       "      <td>NaN</td>\n",
       "      <td>NaN</td>\n",
       "      <td>NaN</td>\n",
       "      <td>NaN</td>\n",
       "      <td>NaN</td>\n",
       "      <td>NaN</td>\n",
       "      <td>NaN</td>\n",
       "      <td>NaN</td>\n",
       "    </tr>\n",
       "    <tr>\n",
       "      <th>4</th>\n",
       "      <td>NaN</td>\n",
       "      <td>NaN</td>\n",
       "      <td>NaN</td>\n",
       "      <td>NaN</td>\n",
       "      <td>NaN</td>\n",
       "      <td>NaN</td>\n",
       "      <td>NaN</td>\n",
       "      <td>NaN</td>\n",
       "      <td>NaN</td>\n",
       "      <td>NaN</td>\n",
       "      <td>...</td>\n",
       "      <td>NaN</td>\n",
       "      <td>NaN</td>\n",
       "      <td>NaN</td>\n",
       "      <td>NaN</td>\n",
       "      <td>NaN</td>\n",
       "      <td>NaN</td>\n",
       "      <td>NaN</td>\n",
       "      <td>NaN</td>\n",
       "      <td>NaN</td>\n",
       "      <td>NaN</td>\n",
       "    </tr>\n",
       "    <tr>\n",
       "      <th>5</th>\n",
       "      <td>NaN</td>\n",
       "      <td>NaN</td>\n",
       "      <td>NaN</td>\n",
       "      <td>NaN</td>\n",
       "      <td>NaN</td>\n",
       "      <td>NaN</td>\n",
       "      <td>NaN</td>\n",
       "      <td>NaN</td>\n",
       "      <td>NaN</td>\n",
       "      <td>NaN</td>\n",
       "      <td>...</td>\n",
       "      <td>NaN</td>\n",
       "      <td>NaN</td>\n",
       "      <td>NaN</td>\n",
       "      <td>NaN</td>\n",
       "      <td>NaN</td>\n",
       "      <td>NaN</td>\n",
       "      <td>NaN</td>\n",
       "      <td>NaN</td>\n",
       "      <td>NaN</td>\n",
       "      <td>NaN</td>\n",
       "    </tr>\n",
       "  </tbody>\n",
       "</table>\n",
       "<p>5 rows × 6906 columns</p>\n",
       "</div>"
      ],
      "text/plain": [
       "wordID  1     2     3     4     5     6     7     8     9     10    ...  6897  \\\n",
       "docID                                                               ...         \n",
       "1        NaN   NaN   NaN   NaN   NaN   NaN   NaN   NaN   NaN   NaN  ...   NaN   \n",
       "2        NaN   NaN   NaN   NaN   NaN   NaN   NaN   NaN   NaN   NaN  ...   NaN   \n",
       "3        NaN   NaN   NaN   NaN   NaN   NaN   NaN   NaN   NaN   NaN  ...   NaN   \n",
       "4        NaN   NaN   NaN   NaN   NaN   NaN   NaN   NaN   NaN   NaN  ...   NaN   \n",
       "5        NaN   NaN   NaN   NaN   NaN   NaN   NaN   NaN   NaN   NaN  ...   NaN   \n",
       "\n",
       "wordID  6898  6899  6900  6901  6902  6903  6904  6905  6906  \n",
       "docID                                                         \n",
       "1        NaN   NaN   NaN   NaN   NaN   NaN   NaN   1.0   NaN  \n",
       "2        NaN   NaN   NaN   NaN   NaN   NaN   NaN   NaN   NaN  \n",
       "3        NaN   NaN   NaN   NaN   NaN   NaN   NaN   NaN   NaN  \n",
       "4        NaN   NaN   NaN   NaN   NaN   NaN   NaN   NaN   NaN  \n",
       "5        NaN   NaN   NaN   NaN   NaN   NaN   NaN   NaN   NaN  \n",
       "\n",
       "[5 rows x 6906 columns]"
      ]
     },
     "execution_count": 7,
     "metadata": {},
     "output_type": "execute_result"
    }
   ],
   "source": [
    "df.head()"
   ]
  },
  {
   "cell_type": "code",
   "execution_count": 8,
   "id": "f6d7d5d7",
   "metadata": {
    "id": "f6d7d5d7"
   },
   "outputs": [],
   "source": [
    "#將資料集轉成布林值\n",
    "def sum_to_boolean(x):\n",
    "    if x>=1:\n",
    "        return True\n",
    "    else:\n",
    "        return False\n",
    "\n",
    "df_final = df.applymap(sum_to_boolean)"
   ]
  },
  {
   "cell_type": "code",
   "execution_count": 9,
   "id": "f48c05e1",
   "metadata": {
    "colab": {
     "base_uri": "https://localhost:8080/",
     "height": 267
    },
    "id": "f48c05e1",
    "outputId": "92018c64-9dd3-4425-8f36-e40902d5d85e"
   },
   "outputs": [
    {
     "data": {
      "text/html": [
       "<div>\n",
       "<style scoped>\n",
       "    .dataframe tbody tr th:only-of-type {\n",
       "        vertical-align: middle;\n",
       "    }\n",
       "\n",
       "    .dataframe tbody tr th {\n",
       "        vertical-align: top;\n",
       "    }\n",
       "\n",
       "    .dataframe thead th {\n",
       "        text-align: right;\n",
       "    }\n",
       "</style>\n",
       "<table border=\"1\" class=\"dataframe\">\n",
       "  <thead>\n",
       "    <tr style=\"text-align: right;\">\n",
       "      <th>wordID</th>\n",
       "      <th>1</th>\n",
       "      <th>2</th>\n",
       "      <th>3</th>\n",
       "      <th>4</th>\n",
       "      <th>5</th>\n",
       "      <th>6</th>\n",
       "      <th>7</th>\n",
       "      <th>8</th>\n",
       "      <th>9</th>\n",
       "      <th>10</th>\n",
       "      <th>...</th>\n",
       "      <th>6897</th>\n",
       "      <th>6898</th>\n",
       "      <th>6899</th>\n",
       "      <th>6900</th>\n",
       "      <th>6901</th>\n",
       "      <th>6902</th>\n",
       "      <th>6903</th>\n",
       "      <th>6904</th>\n",
       "      <th>6905</th>\n",
       "      <th>6906</th>\n",
       "    </tr>\n",
       "    <tr>\n",
       "      <th>docID</th>\n",
       "      <th></th>\n",
       "      <th></th>\n",
       "      <th></th>\n",
       "      <th></th>\n",
       "      <th></th>\n",
       "      <th></th>\n",
       "      <th></th>\n",
       "      <th></th>\n",
       "      <th></th>\n",
       "      <th></th>\n",
       "      <th></th>\n",
       "      <th></th>\n",
       "      <th></th>\n",
       "      <th></th>\n",
       "      <th></th>\n",
       "      <th></th>\n",
       "      <th></th>\n",
       "      <th></th>\n",
       "      <th></th>\n",
       "      <th></th>\n",
       "      <th></th>\n",
       "    </tr>\n",
       "  </thead>\n",
       "  <tbody>\n",
       "    <tr>\n",
       "      <th>1</th>\n",
       "      <td>False</td>\n",
       "      <td>False</td>\n",
       "      <td>False</td>\n",
       "      <td>False</td>\n",
       "      <td>False</td>\n",
       "      <td>False</td>\n",
       "      <td>False</td>\n",
       "      <td>False</td>\n",
       "      <td>False</td>\n",
       "      <td>False</td>\n",
       "      <td>...</td>\n",
       "      <td>False</td>\n",
       "      <td>False</td>\n",
       "      <td>False</td>\n",
       "      <td>False</td>\n",
       "      <td>False</td>\n",
       "      <td>False</td>\n",
       "      <td>False</td>\n",
       "      <td>False</td>\n",
       "      <td>True</td>\n",
       "      <td>False</td>\n",
       "    </tr>\n",
       "    <tr>\n",
       "      <th>2</th>\n",
       "      <td>False</td>\n",
       "      <td>False</td>\n",
       "      <td>False</td>\n",
       "      <td>False</td>\n",
       "      <td>False</td>\n",
       "      <td>False</td>\n",
       "      <td>False</td>\n",
       "      <td>False</td>\n",
       "      <td>False</td>\n",
       "      <td>False</td>\n",
       "      <td>...</td>\n",
       "      <td>False</td>\n",
       "      <td>False</td>\n",
       "      <td>False</td>\n",
       "      <td>False</td>\n",
       "      <td>False</td>\n",
       "      <td>False</td>\n",
       "      <td>False</td>\n",
       "      <td>False</td>\n",
       "      <td>False</td>\n",
       "      <td>False</td>\n",
       "    </tr>\n",
       "    <tr>\n",
       "      <th>3</th>\n",
       "      <td>False</td>\n",
       "      <td>False</td>\n",
       "      <td>False</td>\n",
       "      <td>False</td>\n",
       "      <td>False</td>\n",
       "      <td>False</td>\n",
       "      <td>False</td>\n",
       "      <td>False</td>\n",
       "      <td>False</td>\n",
       "      <td>False</td>\n",
       "      <td>...</td>\n",
       "      <td>False</td>\n",
       "      <td>False</td>\n",
       "      <td>False</td>\n",
       "      <td>False</td>\n",
       "      <td>False</td>\n",
       "      <td>False</td>\n",
       "      <td>False</td>\n",
       "      <td>False</td>\n",
       "      <td>False</td>\n",
       "      <td>False</td>\n",
       "    </tr>\n",
       "    <tr>\n",
       "      <th>4</th>\n",
       "      <td>False</td>\n",
       "      <td>False</td>\n",
       "      <td>False</td>\n",
       "      <td>False</td>\n",
       "      <td>False</td>\n",
       "      <td>False</td>\n",
       "      <td>False</td>\n",
       "      <td>False</td>\n",
       "      <td>False</td>\n",
       "      <td>False</td>\n",
       "      <td>...</td>\n",
       "      <td>False</td>\n",
       "      <td>False</td>\n",
       "      <td>False</td>\n",
       "      <td>False</td>\n",
       "      <td>False</td>\n",
       "      <td>False</td>\n",
       "      <td>False</td>\n",
       "      <td>False</td>\n",
       "      <td>False</td>\n",
       "      <td>False</td>\n",
       "    </tr>\n",
       "    <tr>\n",
       "      <th>5</th>\n",
       "      <td>False</td>\n",
       "      <td>False</td>\n",
       "      <td>False</td>\n",
       "      <td>False</td>\n",
       "      <td>False</td>\n",
       "      <td>False</td>\n",
       "      <td>False</td>\n",
       "      <td>False</td>\n",
       "      <td>False</td>\n",
       "      <td>False</td>\n",
       "      <td>...</td>\n",
       "      <td>False</td>\n",
       "      <td>False</td>\n",
       "      <td>False</td>\n",
       "      <td>False</td>\n",
       "      <td>False</td>\n",
       "      <td>False</td>\n",
       "      <td>False</td>\n",
       "      <td>False</td>\n",
       "      <td>False</td>\n",
       "      <td>False</td>\n",
       "    </tr>\n",
       "  </tbody>\n",
       "</table>\n",
       "<p>5 rows × 6906 columns</p>\n",
       "</div>"
      ],
      "text/plain": [
       "wordID   1      2      3      4      5      6      7      8      9      10    \\\n",
       "docID                                                                          \n",
       "1       False  False  False  False  False  False  False  False  False  False   \n",
       "2       False  False  False  False  False  False  False  False  False  False   \n",
       "3       False  False  False  False  False  False  False  False  False  False   \n",
       "4       False  False  False  False  False  False  False  False  False  False   \n",
       "5       False  False  False  False  False  False  False  False  False  False   \n",
       "\n",
       "wordID  ...   6897   6898   6899   6900   6901   6902   6903   6904   6905  \\\n",
       "docID   ...                                                                  \n",
       "1       ...  False  False  False  False  False  False  False  False   True   \n",
       "2       ...  False  False  False  False  False  False  False  False  False   \n",
       "3       ...  False  False  False  False  False  False  False  False  False   \n",
       "4       ...  False  False  False  False  False  False  False  False  False   \n",
       "5       ...  False  False  False  False  False  False  False  False  False   \n",
       "\n",
       "wordID   6906  \n",
       "docID          \n",
       "1       False  \n",
       "2       False  \n",
       "3       False  \n",
       "4       False  \n",
       "5       False  \n",
       "\n",
       "[5 rows x 6906 columns]"
      ]
     },
     "execution_count": 9,
     "metadata": {},
     "output_type": "execute_result"
    }
   ],
   "source": [
    "df_final.head()"
   ]
  },
  {
   "cell_type": "code",
   "execution_count": 10,
   "id": "d9392ee2",
   "metadata": {
    "colab": {
     "base_uri": "https://localhost:8080/",
     "height": 538
    },
    "id": "d9392ee2",
    "outputId": "2317f410-ff1f-40c3-91a3-b724e58c77ca"
   },
   "outputs": [],
   "source": [
    "import time\n",
    "from mlxtend.frequent_patterns import fpgrowth"
   ]
  },
  {
   "cell_type": "code",
   "execution_count": 11,
   "id": "2d688e4a",
   "metadata": {},
   "outputs": [],
   "source": [
    "#讀入vocabularyFile\n",
    "vocabularyFile = open(\"vocab.kos.txt\", \"r\")\n",
    "vocabulary = (vocabularyFile.read()).split('\\n')"
   ]
  },
  {
   "cell_type": "code",
   "execution_count": 12,
   "id": "fd680170",
   "metadata": {},
   "outputs": [],
   "source": [
    "#將五個門檻值放入list中\n",
    "support = [0.35,0.3,0.25,0.2,0.15]"
   ]
  },
  {
   "cell_type": "code",
   "execution_count": 13,
   "id": "9e35238d",
   "metadata": {},
   "outputs": [],
   "source": [
    "# frequent itemsets method\n",
    "def frequent_method(i):\n",
    "    print('\\nmin_support = ',i)\n",
    "\n",
    "    #Task1 : Compute Frequent Item Set using  mlxtend.frequent_patterns\n",
    "    start_time = time.time()\n",
    "    frequent = fpgrowth(df_final, min_support=i, use_colnames=True)\n",
    "    atime = float(time.time() - start_time)\n",
    "    print('\\nTime to find frequent itemset')\n",
    "    print(\"--- %s seconds ---\", atime)\n",
    "    \n",
    "    #itemsets轉換成文字\n",
    "    itemset = frequent['itemsets'].values\n",
    "    for i in range(len(itemset)):\n",
    "            tempFrequentWordSet = []\n",
    "    \n",
    "            for frequentSet in itemset:\n",
    "                tempWordSet = set()\n",
    "\n",
    "                for wordIndex in list(frequentSet):\n",
    "                    tempWordSet.add(vocabulary[wordIndex-1])\n",
    "            \n",
    "                tempFrequentWordSet.append(tempWordSet)\n",
    "    fl = frequent['itemsets'].count()\n",
    "    \n",
    "    atranstime = float(time.time() - start_time)\n",
    "    print('\\nTime to transformed frequent itemset')\n",
    "    print(\"--- %s seconds ---\", atranstime)\n",
    "    print(\"\\nNumbers of all frequent itemsets: \", fl)\n",
    "    print(\"\\nAll frequent itemsets word: \\n\",tempFrequentWordSet)\n",
    "    print(\"-------------------------------------------------------------------------------------------------------------\\n\")\n",
    "    \n",
    "    # Task 2&3: Find closed/max frequent itemset using frequent itemset found in task1\n",
    "    su = frequent.support.unique()#all unique support count\n",
    "    #Dictionay storing itemset with same support count key\n",
    "    fredic = {}\n",
    "    for i in range(len(su)):\n",
    "        inset = list(frequent.loc[frequent.support ==su[i]]['itemsets'])\n",
    "        fredic[su[i]] = inset\n",
    "    #Dictionay storing itemset with  support count <= key\n",
    "    fredic2 = {}\n",
    "    for i in range(len(su)):\n",
    "        inset2 = list(frequent.loc[frequent.support<=su[i]]['itemsets'])\n",
    "        fredic2[su[i]] = inset2\n",
    "\n",
    "    #Find Closed frequent itemset\n",
    "    start_time = time.time()\n",
    "    cl = []\n",
    "    for index, row in frequent.iterrows():\n",
    "        isclose = True\n",
    "        cli = row['itemsets']\n",
    "        cls = row['support']\n",
    "        checkset = fredic[cls]\n",
    "        for i in checkset:\n",
    "            if (cli!=i):\n",
    "                if(frozenset.issubset(cli,i)):\n",
    "                    isclose = False\n",
    "                    break\n",
    "    \n",
    "        if(isclose):\n",
    "            cl.append(row['itemsets'])\n",
    "            \n",
    "    ctime = float(time.time() - start_time)    \n",
    "    print('Time to find Close frequent itemset')\n",
    "    print(\"--- %s seconds ---\", ctime)\n",
    "\n",
    "    #itemsets轉換成文字\n",
    "    itemset = cl\n",
    "    for i in range(len(itemset)):\n",
    "            tempFrequentWordSet = []\n",
    "    \n",
    "            for frequentSet in itemset:\n",
    "                tempWordSet = set()\n",
    "\n",
    "                for wordIndex in list(frequentSet):\n",
    "                    tempWordSet.add(vocabulary[wordIndex-1])\n",
    "            \n",
    "                tempFrequentWordSet.append(tempWordSet)\n",
    "    \n",
    "    ctranstime = float(time.time() - start_time)\n",
    "    print('\\nTime to transformed frequent itemset')\n",
    "    print(\"--- %s seconds ---\", ctranstime)\n",
    "    print(\"\\nNumbers of closed frequent itemsets: \", len(cl))\n",
    "    print(\"\\nClosed frequent itemsets word: \\n\", tempFrequentWordSet)\n",
    "    print(\"-------------------------------------------------------------------------------------------------------------\\n\")\n",
    "    \n",
    "    #Find Max frequent itemset\n",
    "    start_time = time.time()\n",
    "    ml = []\n",
    "    for index, row in frequent.iterrows():\n",
    "        isclose = True\n",
    "        cli = row['itemsets']\n",
    "        cls = row['support']\n",
    "        checkset = fredic2[cls]\n",
    "        for i in checkset:\n",
    "            if (cli!=i):\n",
    "                if(frozenset.issubset(cli,i)):\n",
    "                    isclose = False\n",
    "                    break\n",
    "    \n",
    "        if(isclose):\n",
    "            ml.append(row['itemsets'])\n",
    "    \n",
    "    mtime = float(time.time() - start_time)\n",
    "    print('Time to find Max frequent itemset')\n",
    "    print(\"--- %s seconds ---\",mtime)\n",
    "    \n",
    "    #itemsets轉換成文字\n",
    "    itemset = ml\n",
    "    for i in range(len(itemset)):\n",
    "            tempFrequentWordSet = []\n",
    "    \n",
    "            for frequentSet in itemset:\n",
    "                tempWordSet = set()\n",
    "\n",
    "                for wordIndex in list(frequentSet):\n",
    "                    tempWordSet.add(vocabulary[wordIndex-1])\n",
    "            \n",
    "                tempFrequentWordSet.append(tempWordSet)\n",
    "    mtranstime = float(time.time() - start_time)\n",
    "    print('\\nTime to transformed frequent itemset')\n",
    "    print(\"--- %s seconds ---\", mtranstime)\n",
    "    print(\"\\nNumbers of max frequent itemsets: \", len(ml))\n",
    "    print(\"\\nMax frequent itemsets word: \\n\", tempFrequentWordSet)\n",
    "    print(\"___________________________________________________________________________________________________________\\n\")\n",
    "    A_time.append(atime)\n",
    "    A_transtime.append(atranstime)\n",
    "    A.append(frequent['itemsets'].count())\n",
    "    C_time.append(ctime)\n",
    "    C_transtime.append(ctranstime)\n",
    "    C.append(len(cl))\n",
    "    M_time.append(mtime)\n",
    "    M_transtime.append(mtranstime)\n",
    "    M.append(len(ml))\n",
    "    \n",
    "\n"
   ]
  },
  {
   "cell_type": "code",
   "execution_count": 14,
   "id": "fc26ca17",
   "metadata": {},
   "outputs": [
    {
     "name": "stdout",
     "output_type": "stream",
     "text": [
      "\n",
      "min_support =  0.35\n",
      "\n",
      "Time to find frequent itemset\n",
      "--- %s seconds --- 0.5006024837493896\n",
      "\n",
      "Time to transformed frequent itemset\n",
      "--- %s seconds --- 0.5046191215515137\n",
      "\n",
      "Numbers of all frequent itemsets:  8\n",
      "\n",
      "All frequent itemsets word: \n",
      " [{'bush'}, {'general'}, {'kerry'}, {'war'}, {'house'}, {'democratic'}, {'poll'}, {'general', 'bush'}]\n",
      "-------------------------------------------------------------------------------------------------------------\n",
      "\n",
      "Time to find Close frequent itemset\n",
      "--- %s seconds --- 0.0\n",
      "\n",
      "Time to transformed frequent itemset\n",
      "--- %s seconds --- 0.0\n",
      "\n",
      "Numbers of closed frequent itemsets:  8\n",
      "\n",
      "Closed frequent itemsets word: \n",
      " [{'bush'}, {'general'}, {'kerry'}, {'war'}, {'house'}, {'democratic'}, {'poll'}, {'general', 'bush'}]\n",
      "-------------------------------------------------------------------------------------------------------------\n",
      "\n",
      "Time to find Max frequent itemset\n",
      "--- %s seconds --- 0.0\n",
      "\n",
      "Time to transformed frequent itemset\n",
      "--- %s seconds --- 0.0\n",
      "\n",
      "Numbers of max frequent itemsets:  6\n",
      "\n",
      "Max frequent itemsets word: \n",
      " [{'kerry'}, {'war'}, {'house'}, {'democratic'}, {'poll'}, {'general', 'bush'}]\n",
      "___________________________________________________________________________________________________________\n",
      "\n",
      "\n",
      "min_support =  0.3\n",
      "\n",
      "Time to find frequent itemset\n",
      "--- %s seconds --- 0.536651611328125\n",
      "\n",
      "Time to transformed frequent itemset\n",
      "--- %s seconds --- 0.5406489372253418\n",
      "\n",
      "Numbers of all frequent itemsets:  13\n",
      "\n",
      "All frequent itemsets word: \n",
      " [{'bush'}, {'general'}, {'kerry'}, {'war'}, {'house'}, {'democratic'}, {'poll'}, {'democrats'}, {'republicans'}, {'time'}, {'general', 'bush'}, {'kerry', 'bush'}, {'kerry', 'general'}]\n",
      "-------------------------------------------------------------------------------------------------------------\n",
      "\n",
      "Time to find Close frequent itemset\n",
      "--- %s seconds --- 0.0\n",
      "\n",
      "Time to transformed frequent itemset\n",
      "--- %s seconds --- 0.0\n",
      "\n",
      "Numbers of closed frequent itemsets:  13\n",
      "\n",
      "Closed frequent itemsets word: \n",
      " [{'bush'}, {'general'}, {'kerry'}, {'war'}, {'house'}, {'democratic'}, {'poll'}, {'democrats'}, {'republicans'}, {'time'}, {'general', 'bush'}, {'kerry', 'bush'}, {'kerry', 'general'}]\n",
      "-------------------------------------------------------------------------------------------------------------\n",
      "\n",
      "Time to find Max frequent itemset\n",
      "--- %s seconds --- 0.004019260406494141\n",
      "\n",
      "Time to transformed frequent itemset\n",
      "--- %s seconds --- 0.004019260406494141\n",
      "\n",
      "Numbers of max frequent itemsets:  10\n",
      "\n",
      "Max frequent itemsets word: \n",
      " [{'war'}, {'house'}, {'democratic'}, {'poll'}, {'democrats'}, {'republicans'}, {'time'}, {'general', 'bush'}, {'kerry', 'bush'}, {'kerry', 'general'}]\n",
      "___________________________________________________________________________________________________________\n",
      "\n",
      "\n",
      "min_support =  0.25\n",
      "\n",
      "Time to find frequent itemset\n",
      "--- %s seconds --- 0.5760884284973145\n",
      "\n",
      "Time to transformed frequent itemset\n",
      "--- %s seconds --- 0.5800840854644775\n",
      "\n",
      "Numbers of all frequent itemsets:  29\n",
      "\n",
      "All frequent itemsets word: \n",
      " [{'bush'}, {'general'}, {'kerry'}, {'war'}, {'house'}, {'president'}, {'campaign'}, {'democratic'}, {'poll'}, {'democrats'}, {'republicans'}, {'election'}, {'media'}, {'primary'}, {'senate'}, {'polls'}, {'time'}, {'people'}, {'state'}, {'general', 'bush'}, {'kerry', 'bush'}, {'kerry', 'general'}, {'kerry', 'general', 'bush'}, {'war', 'bush'}, {'house', 'bush'}, {'democratic', 'bush'}, {'democratic', 'kerry'}, {'poll', 'bush'}, {'democratic', 'primary'}]\n",
      "-------------------------------------------------------------------------------------------------------------\n",
      "\n",
      "Time to find Close frequent itemset\n",
      "--- %s seconds --- 0.003978252410888672\n",
      "\n",
      "Time to transformed frequent itemset\n",
      "--- %s seconds --- 0.005487918853759766\n",
      "\n",
      "Numbers of closed frequent itemsets:  29\n",
      "\n",
      "Closed frequent itemsets word: \n",
      " [{'bush'}, {'general'}, {'kerry'}, {'war'}, {'house'}, {'president'}, {'campaign'}, {'democratic'}, {'poll'}, {'democrats'}, {'republicans'}, {'election'}, {'media'}, {'primary'}, {'senate'}, {'polls'}, {'time'}, {'people'}, {'state'}, {'general', 'bush'}, {'kerry', 'bush'}, {'kerry', 'general'}, {'kerry', 'general', 'bush'}, {'war', 'bush'}, {'house', 'bush'}, {'democratic', 'bush'}, {'democratic', 'kerry'}, {'poll', 'bush'}, {'democratic', 'primary'}]\n",
      "-------------------------------------------------------------------------------------------------------------\n",
      "\n",
      "Time to find Max frequent itemset\n",
      "--- %s seconds --- 0.002507925033569336\n",
      "\n",
      "Time to transformed frequent itemset\n",
      "--- %s seconds --- 0.002507925033569336\n",
      "\n",
      "Numbers of max frequent itemsets:  18\n",
      "\n",
      "Max frequent itemsets word: \n",
      " [{'president'}, {'campaign'}, {'democrats'}, {'republicans'}, {'election'}, {'media'}, {'senate'}, {'polls'}, {'time'}, {'people'}, {'state'}, {'kerry', 'general', 'bush'}, {'war', 'bush'}, {'house', 'bush'}, {'democratic', 'bush'}, {'democratic', 'kerry'}, {'poll', 'bush'}, {'democratic', 'primary'}]\n",
      "___________________________________________________________________________________________________________\n",
      "\n",
      "\n",
      "min_support =  0.2\n",
      "\n",
      "Time to find frequent itemset\n",
      "--- %s seconds --- 0.8612165451049805\n",
      "\n",
      "Time to transformed frequent itemset\n",
      "--- %s seconds --- 0.8652586936950684\n",
      "\n",
      "Numbers of all frequent itemsets:  58\n",
      "\n",
      "All frequent itemsets word: \n",
      " [{'bush'}, {'general'}, {'kerry'}, {'war'}, {'house'}, {'president'}, {'iraq'}, {'republican'}, {'john'}, {'administration'}, {'vote'}, {'news'}, {'campaign'}, {'democratic'}, {'poll'}, {'democrats'}, {'republicans'}, {'election'}, {'media'}, {'primary'}, {'senate'}, {'polls'}, {'race'}, {'time'}, {'elections'}, {'people'}, {'bushs'}, {'state'}, {'states'}, {'political'}, {'national'}, {'general', 'bush'}, {'kerry', 'bush'}, {'kerry', 'general'}, {'kerry', 'general', 'bush'}, {'war', 'bush'}, {'general', 'war'}, {'kerry', 'war'}, {'house', 'bush'}, {'democratic', 'house'}, {'president', 'bush'}, {'administration', 'bush'}, {'democratic', 'bush'}, {'democratic', 'kerry'}, {'democratic', 'general'}, {'poll', 'bush'}, {'kerry', 'poll'}, {'general', 'poll'}, {'democratic', 'poll'}, {'democrats', 'bush'}, {'democratic', 'democrats'}, {'republicans', 'bush'}, {'election', 'bush'}, {'general', 'election'}, {'media', 'bush'}, {'democratic', 'primary'}, {'kerry', 'primary'}, {'time', 'bush'}]\n",
      "-------------------------------------------------------------------------------------------------------------\n",
      "\n",
      "Time to find Close frequent itemset\n",
      "--- %s seconds --- 0.003926515579223633\n",
      "\n",
      "Time to transformed frequent itemset\n",
      "--- %s seconds --- 0.00799417495727539\n",
      "\n",
      "Numbers of closed frequent itemsets:  58\n",
      "\n",
      "Closed frequent itemsets word: \n",
      " [{'bush'}, {'general'}, {'kerry'}, {'war'}, {'house'}, {'president'}, {'iraq'}, {'republican'}, {'john'}, {'administration'}, {'vote'}, {'news'}, {'campaign'}, {'democratic'}, {'poll'}, {'democrats'}, {'republicans'}, {'election'}, {'media'}, {'primary'}, {'senate'}, {'polls'}, {'race'}, {'time'}, {'elections'}, {'people'}, {'bushs'}, {'state'}, {'states'}, {'political'}, {'national'}, {'general', 'bush'}, {'kerry', 'bush'}, {'kerry', 'general'}, {'kerry', 'general', 'bush'}, {'war', 'bush'}, {'general', 'war'}, {'kerry', 'war'}, {'house', 'bush'}, {'democratic', 'house'}, {'president', 'bush'}, {'administration', 'bush'}, {'democratic', 'bush'}, {'democratic', 'kerry'}, {'democratic', 'general'}, {'poll', 'bush'}, {'kerry', 'poll'}, {'general', 'poll'}, {'democratic', 'poll'}, {'democrats', 'bush'}, {'democratic', 'democrats'}, {'republicans', 'bush'}, {'election', 'bush'}, {'general', 'election'}, {'media', 'bush'}, {'democratic', 'primary'}, {'kerry', 'primary'}, {'time', 'bush'}]\n",
      "-------------------------------------------------------------------------------------------------------------\n",
      "\n",
      "Time to find Max frequent itemset\n",
      "--- %s seconds --- 0.003919839859008789\n",
      "\n",
      "Time to transformed frequent itemset\n",
      "--- %s seconds --- 0.007998228073120117\n",
      "\n",
      "Numbers of max frequent itemsets:  40\n",
      "\n",
      "Max frequent itemsets word: \n",
      " [{'iraq'}, {'republican'}, {'john'}, {'vote'}, {'news'}, {'campaign'}, {'senate'}, {'polls'}, {'race'}, {'elections'}, {'people'}, {'bushs'}, {'state'}, {'states'}, {'political'}, {'national'}, {'kerry', 'general', 'bush'}, {'war', 'bush'}, {'general', 'war'}, {'kerry', 'war'}, {'house', 'bush'}, {'democratic', 'house'}, {'president', 'bush'}, {'administration', 'bush'}, {'democratic', 'bush'}, {'democratic', 'kerry'}, {'democratic', 'general'}, {'poll', 'bush'}, {'kerry', 'poll'}, {'general', 'poll'}, {'democratic', 'poll'}, {'democrats', 'bush'}, {'democratic', 'democrats'}, {'republicans', 'bush'}, {'election', 'bush'}, {'general', 'election'}, {'media', 'bush'}, {'democratic', 'primary'}, {'kerry', 'primary'}, {'time', 'bush'}]\n",
      "___________________________________________________________________________________________________________\n",
      "\n",
      "\n",
      "min_support =  0.15\n"
     ]
    },
    {
     "name": "stdout",
     "output_type": "stream",
     "text": [
      "\n",
      "Time to find frequent itemset\n",
      "--- %s seconds --- 1.0284779071807861\n",
      "\n",
      "Time to transformed frequent itemset\n",
      "--- %s seconds --- 1.0648245811462402\n",
      "\n",
      "Numbers of all frequent itemsets:  188\n",
      "\n",
      "All frequent itemsets word: \n",
      " [{'bush'}, {'general'}, {'kerry'}, {'war'}, {'house'}, {'president'}, {'iraq'}, {'republican'}, {'john'}, {'administration'}, {'vote'}, {'news'}, {'voters'}, {'november'}, {'lead'}, {'campaign'}, {'democratic'}, {'poll'}, {'democrats'}, {'republicans'}, {'election'}, {'media'}, {'primary'}, {'senate'}, {'polls'}, {'race'}, {'win'}, {'races'}, {'governor'}, {'economy'}, {'time'}, {'elections'}, {'people'}, {'bushs'}, {'american'}, {'candidate'}, {'year'}, {'running'}, {'numbers'}, {'state'}, {'states'}, {'party'}, {'years'}, {'country'}, {'oct'}, {'political'}, {'gop'}, {'national'}, {'dean'}, {'general', 'bush'}, {'kerry', 'bush'}, {'kerry', 'general'}, {'kerry', 'general', 'bush'}, {'war', 'bush'}, {'general', 'war'}, {'kerry', 'war'}, {'democratic', 'war'}, {'general', 'war', 'bush'}, {'kerry', 'war', 'bush'}, {'kerry', 'general', 'war'}, {'kerry', 'general', 'war', 'bush'}, {'democratic', 'war', 'bush'}, {'house', 'bush'}, {'general', 'house'}, {'war', 'house'}, {'kerry', 'house'}, {'democratic', 'house'}, {'poll', 'house'}, {'general', 'house', 'bush'}, {'house', 'war', 'bush'}, {'kerry', 'house', 'bush'}, {'democratic', 'house', 'bush'}, {'president', 'bush'}, {'president', 'general'}, {'iraq', 'bush'}, {'iraq', 'war'}, {'republican', 'bush'}, {'kerry', 'john'}, {'john', 'bush'}, {'administration', 'bush'}, {'vote', 'bush'}, {'general', 'vote'}, {'kerry', 'vote'}, {'campaign', 'bush'}, {'kerry', 'campaign'}, {'campaign', 'general'}, {'democratic', 'campaign'}, {'democratic', 'bush'}, {'democratic', 'kerry'}, {'democratic', 'general'}, {'democratic', 'kerry', 'bush'}, {'democratic', 'general', 'bush'}, {'kerry', 'general', 'democratic'}, {'kerry', 'general', 'democratic', 'bush'}, {'poll', 'bush'}, {'kerry', 'poll'}, {'general', 'poll'}, {'democratic', 'poll'}, {'poll', 'war'}, {'kerry', 'poll', 'bush'}, {'general', 'poll', 'bush'}, {'kerry', 'general', 'poll'}, {'kerry', 'general', 'poll', 'bush'}, {'democratic', 'poll', 'kerry'}, {'democratic', 'poll', 'bush'}, {'democrats', 'bush'}, {'democratic', 'democrats'}, {'kerry', 'democrats'}, {'democrats', 'house'}, {'general', 'democrats'}, {'poll', 'democrats'}, {'war', 'democrats'}, {'democratic', 'democrats', 'bush'}, {'kerry', 'democrats', 'bush'}, {'democratic', 'kerry', 'democrats'}, {'house', 'democrats', 'bush'}, {'democratic', 'democrats', 'house'}, {'general', 'democrats', 'bush'}, {'republicans', 'bush'}, {'republicans', 'general'}, {'republicans', 'democrats'}, {'democratic', 'republicans'}, {'republicans', 'house'}, {'republicans', 'kerry'}, {'republicans', 'poll'}, {'republicans', 'war'}, {'republicans', 'general', 'bush'}, {'republicans', 'democrats', 'bush'}, {'democratic', 'republicans', 'bush'}, {'democratic', 'republicans', 'democrats'}, {'republicans', 'kerry', 'bush'}, {'election', 'bush'}, {'general', 'election'}, {'kerry', 'election'}, {'democratic', 'election'}, {'poll', 'election'}, {'election', 'democrats'}, {'election', 'house'}, {'election', 'war'}, {'republicans', 'election'}, {'general', 'election', 'bush'}, {'kerry', 'election', 'bush'}, {'kerry', 'general', 'election'}, {'media', 'bush'}, {'kerry', 'media'}, {'democratic', 'media'}, {'general', 'media'}, {'media', 'war'}, {'poll', 'media'}, {'media', 'house'}, {'kerry', 'media', 'bush'}, {'general', 'media', 'bush'}, {'democratic', 'primary'}, {'kerry', 'primary'}, {'primary', 'poll'}, {'primary', 'bush'}, {'primary', 'democrats'}, {'democratic', 'primary', 'kerry'}, {'democratic', 'primary', 'poll'}, {'kerry', 'primary', 'poll'}, {'democratic', 'primary', 'bush'}, {'senate', 'bush'}, {'senate', 'house'}, {'democratic', 'senate'}, {'senate', 'general'}, {'republicans', 'senate'}, {'senate', 'democrats'}, {'kerry', 'senate'}, {'senate', 'poll'}, {'kerry', 'polls'}, {'polls', 'bush'}, {'poll', 'polls'}, {'general', 'polls'}, {'democratic', 'polls'}, {'kerry', 'polls', 'bush'}, {'kerry', 'poll', 'polls'}, {'poll', 'polls', 'bush'}, {'general', 'polls', 'bush'}, {'kerry', 'general', 'polls'}, {'time', 'bush'}, {'time', 'general'}, {'time', 'kerry'}, {'people', 'bush'}, {'bushs', 'bush'}, {'state', 'bush'}, {'states', 'bush'}, {'political', 'bush'}, {'national', 'bush'}]\n",
      "-------------------------------------------------------------------------------------------------------------\n",
      "\n",
      "Time to find Close frequent itemset\n",
      "--- %s seconds --- 0.016072511672973633\n",
      "\n",
      "Time to transformed frequent itemset\n",
      "--- %s seconds --- 0.06405806541442871\n",
      "\n",
      "Numbers of closed frequent itemsets:  188\n",
      "\n",
      "Closed frequent itemsets word: \n",
      " [{'bush'}, {'general'}, {'kerry'}, {'war'}, {'house'}, {'president'}, {'iraq'}, {'republican'}, {'john'}, {'administration'}, {'vote'}, {'news'}, {'voters'}, {'november'}, {'lead'}, {'campaign'}, {'democratic'}, {'poll'}, {'democrats'}, {'republicans'}, {'election'}, {'media'}, {'primary'}, {'senate'}, {'polls'}, {'race'}, {'win'}, {'races'}, {'governor'}, {'economy'}, {'time'}, {'elections'}, {'people'}, {'bushs'}, {'american'}, {'candidate'}, {'year'}, {'running'}, {'numbers'}, {'state'}, {'states'}, {'party'}, {'years'}, {'country'}, {'oct'}, {'political'}, {'gop'}, {'national'}, {'dean'}, {'general', 'bush'}, {'kerry', 'bush'}, {'kerry', 'general'}, {'kerry', 'general', 'bush'}, {'war', 'bush'}, {'general', 'war'}, {'kerry', 'war'}, {'democratic', 'war'}, {'general', 'war', 'bush'}, {'kerry', 'war', 'bush'}, {'kerry', 'general', 'war'}, {'kerry', 'general', 'war', 'bush'}, {'democratic', 'war', 'bush'}, {'house', 'bush'}, {'general', 'house'}, {'war', 'house'}, {'kerry', 'house'}, {'democratic', 'house'}, {'poll', 'house'}, {'general', 'house', 'bush'}, {'house', 'war', 'bush'}, {'kerry', 'house', 'bush'}, {'democratic', 'house', 'bush'}, {'president', 'bush'}, {'president', 'general'}, {'iraq', 'bush'}, {'iraq', 'war'}, {'republican', 'bush'}, {'kerry', 'john'}, {'john', 'bush'}, {'administration', 'bush'}, {'vote', 'bush'}, {'general', 'vote'}, {'kerry', 'vote'}, {'campaign', 'bush'}, {'kerry', 'campaign'}, {'campaign', 'general'}, {'democratic', 'campaign'}, {'democratic', 'bush'}, {'democratic', 'kerry'}, {'democratic', 'general'}, {'democratic', 'kerry', 'bush'}, {'democratic', 'general', 'bush'}, {'kerry', 'general', 'democratic'}, {'kerry', 'general', 'democratic', 'bush'}, {'poll', 'bush'}, {'kerry', 'poll'}, {'general', 'poll'}, {'democratic', 'poll'}, {'poll', 'war'}, {'kerry', 'poll', 'bush'}, {'general', 'poll', 'bush'}, {'kerry', 'general', 'poll'}, {'kerry', 'general', 'poll', 'bush'}, {'democratic', 'poll', 'kerry'}, {'democratic', 'poll', 'bush'}, {'democrats', 'bush'}, {'democratic', 'democrats'}, {'kerry', 'democrats'}, {'democrats', 'house'}, {'general', 'democrats'}, {'poll', 'democrats'}, {'war', 'democrats'}, {'democratic', 'democrats', 'bush'}, {'kerry', 'democrats', 'bush'}, {'democratic', 'kerry', 'democrats'}, {'house', 'democrats', 'bush'}, {'democratic', 'democrats', 'house'}, {'general', 'democrats', 'bush'}, {'republicans', 'bush'}, {'republicans', 'general'}, {'republicans', 'democrats'}, {'democratic', 'republicans'}, {'republicans', 'house'}, {'republicans', 'kerry'}, {'republicans', 'poll'}, {'republicans', 'war'}, {'republicans', 'general', 'bush'}, {'republicans', 'democrats', 'bush'}, {'democratic', 'republicans', 'bush'}, {'democratic', 'republicans', 'democrats'}, {'republicans', 'kerry', 'bush'}, {'election', 'bush'}, {'general', 'election'}, {'kerry', 'election'}, {'democratic', 'election'}, {'poll', 'election'}, {'election', 'democrats'}, {'election', 'house'}, {'election', 'war'}, {'republicans', 'election'}, {'general', 'election', 'bush'}, {'kerry', 'election', 'bush'}, {'kerry', 'general', 'election'}, {'media', 'bush'}, {'kerry', 'media'}, {'democratic', 'media'}, {'general', 'media'}, {'media', 'war'}, {'poll', 'media'}, {'media', 'house'}, {'kerry', 'media', 'bush'}, {'general', 'media', 'bush'}, {'democratic', 'primary'}, {'kerry', 'primary'}, {'primary', 'poll'}, {'primary', 'bush'}, {'primary', 'democrats'}, {'democratic', 'primary', 'kerry'}, {'democratic', 'primary', 'poll'}, {'kerry', 'primary', 'poll'}, {'democratic', 'primary', 'bush'}, {'senate', 'bush'}, {'senate', 'house'}, {'democratic', 'senate'}, {'senate', 'general'}, {'republicans', 'senate'}, {'senate', 'democrats'}, {'kerry', 'senate'}, {'senate', 'poll'}, {'kerry', 'polls'}, {'polls', 'bush'}, {'poll', 'polls'}, {'general', 'polls'}, {'democratic', 'polls'}, {'kerry', 'polls', 'bush'}, {'kerry', 'poll', 'polls'}, {'poll', 'polls', 'bush'}, {'general', 'polls', 'bush'}, {'kerry', 'general', 'polls'}, {'time', 'bush'}, {'time', 'general'}, {'time', 'kerry'}, {'people', 'bush'}, {'bushs', 'bush'}, {'state', 'bush'}, {'states', 'bush'}, {'political', 'bush'}, {'national', 'bush'}]\n",
      "-------------------------------------------------------------------------------------------------------------\n",
      "\n",
      "Time to find Max frequent itemset\n",
      "--- %s seconds --- 0.0160214900970459\n",
      "\n",
      "Time to transformed frequent itemset\n",
      "--- %s seconds --- 0.02802109718322754\n",
      "\n",
      "Numbers of max frequent itemsets:  107\n",
      "\n",
      "Max frequent itemsets word: \n",
      " [{'news'}, {'voters'}, {'november'}, {'lead'}, {'race'}, {'win'}, {'races'}, {'governor'}, {'economy'}, {'elections'}, {'american'}, {'candidate'}, {'year'}, {'running'}, {'numbers'}, {'party'}, {'years'}, {'country'}, {'oct'}, {'gop'}, {'dean'}, {'kerry', 'general', 'war', 'bush'}, {'democratic', 'war', 'bush'}, {'poll', 'house'}, {'general', 'house', 'bush'}, {'house', 'war', 'bush'}, {'kerry', 'house', 'bush'}, {'democratic', 'house', 'bush'}, {'president', 'bush'}, {'president', 'general'}, {'iraq', 'bush'}, {'iraq', 'war'}, {'republican', 'bush'}, {'kerry', 'john'}, {'john', 'bush'}, {'administration', 'bush'}, {'vote', 'bush'}, {'general', 'vote'}, {'kerry', 'vote'}, {'campaign', 'bush'}, {'kerry', 'campaign'}, {'campaign', 'general'}, {'democratic', 'campaign'}, {'kerry', 'general', 'democratic', 'bush'}, {'poll', 'war'}, {'kerry', 'general', 'poll', 'bush'}, {'democratic', 'poll', 'kerry'}, {'democratic', 'poll', 'bush'}, {'poll', 'democrats'}, {'war', 'democrats'}, {'democratic', 'democrats', 'bush'}, {'kerry', 'democrats', 'bush'}, {'democratic', 'kerry', 'democrats'}, {'house', 'democrats', 'bush'}, {'democratic', 'democrats', 'house'}, {'general', 'democrats', 'bush'}, {'republicans', 'house'}, {'republicans', 'poll'}, {'republicans', 'war'}, {'republicans', 'general', 'bush'}, {'republicans', 'democrats', 'bush'}, {'democratic', 'republicans', 'bush'}, {'democratic', 'republicans', 'democrats'}, {'republicans', 'kerry', 'bush'}, {'democratic', 'election'}, {'poll', 'election'}, {'election', 'democrats'}, {'election', 'house'}, {'election', 'war'}, {'republicans', 'election'}, {'general', 'election', 'bush'}, {'kerry', 'election', 'bush'}, {'kerry', 'general', 'election'}, {'democratic', 'media'}, {'media', 'war'}, {'poll', 'media'}, {'media', 'house'}, {'kerry', 'media', 'bush'}, {'general', 'media', 'bush'}, {'primary', 'democrats'}, {'democratic', 'primary', 'kerry'}, {'democratic', 'primary', 'poll'}, {'kerry', 'primary', 'poll'}, {'democratic', 'primary', 'bush'}, {'senate', 'bush'}, {'senate', 'house'}, {'democratic', 'senate'}, {'senate', 'general'}, {'republicans', 'senate'}, {'senate', 'democrats'}, {'kerry', 'senate'}, {'senate', 'poll'}, {'democratic', 'polls'}, {'kerry', 'polls', 'bush'}, {'kerry', 'poll', 'polls'}, {'poll', 'polls', 'bush'}, {'general', 'polls', 'bush'}, {'kerry', 'general', 'polls'}, {'time', 'bush'}, {'time', 'general'}, {'time', 'kerry'}, {'people', 'bush'}, {'bushs', 'bush'}, {'state', 'bush'}, {'states', 'bush'}, {'political', 'bush'}, {'national', 'bush'}]\n",
      "___________________________________________________________________________________________________________\n",
      "\n"
     ]
    }
   ],
   "source": [
    "A_time = []\n",
    "A_transtime = []\n",
    "A = []\n",
    "C_time = []\n",
    "C_transtime = []\n",
    "C = []\n",
    "M_time = []\n",
    "M_transtime = []\n",
    "M = []\n",
    "for i in support:\n",
    "    frequent_method(i)"
   ]
  },
  {
   "cell_type": "code",
   "execution_count": 15,
   "id": "1a9c2ffb",
   "metadata": {},
   "outputs": [
    {
     "data": {
      "image/png": "[encoded data removed]",
      "text/plain": [
       "<Figure size 432x288 with 1 Axes>"
      ]
     },
     "metadata": {
      "needs_background": "light"
     },
     "output_type": "display_data"
    }
   ],
   "source": [
    "#Frequent itemsets Time\n",
    "plt.title(\"Frequent itemsets Time\")\n",
    "plt.xlabel(\"min_support\")\n",
    "plt.ylabel(\"time\")\n",
    "plt.plot(support, A_time, marker='o', markersize=3)\n",
    "plt.plot(support, C_time, marker='o', markersize=3)\n",
    "plt.plot(support, M_time, marker='o', markersize=3)\n",
    "\n",
    "    \n",
    "plt.legend(['A','C','M'])\n",
    "plt.show()"
   ]
  },
  {
   "cell_type": "code",
   "execution_count": 16,
   "id": "4972b01d",
   "metadata": {},
   "outputs": [
    {
     "data": {
      "text/plain": [
       "Text(0, 0.5, 'time')"
      ]
     },
     "execution_count": 16,
     "metadata": {},
     "output_type": "execute_result"
    },
    {
     "data": {
      "image/png": "[encoded data removed]",
      "text/plain": [
       "<Figure size 432x288 with 1 Axes>"
      ]
     },
     "metadata": {
      "needs_background": "light"
     },
     "output_type": "display_data"
    }
   ],
   "source": [
    "#A_time\n",
    "plt.plot(support, A_time, marker='o', markersize=3,color='b')\n",
    "plt.title(\"All Frequent itemsets Time\")\n",
    "plt.xlabel(\"min_support\")\n",
    "plt.ylabel(\"time\")"
   ]
  },
  {
   "cell_type": "code",
   "execution_count": 17,
   "id": "91f60651",
   "metadata": {},
   "outputs": [
    {
     "data": {
      "text/plain": [
       "Text(0, 0.5, 'time')"
      ]
     },
     "execution_count": 17,
     "metadata": {},
     "output_type": "execute_result"
    },
    {
     "data": {
      "image/png": "[encoded data removed]",
      "text/plain": [
       "<Figure size 432x288 with 1 Axes>"
      ]
     },
     "metadata": {
      "needs_background": "light"
     },
     "output_type": "display_data"
    }
   ],
   "source": [
    "#C_time\n",
    "plt.plot(support, C_time, marker='o', markersize=3,color='r')\n",
    "plt.title(\"Closed Frequent itemsets Time\")\n",
    "plt.xlabel(\"min_support\")\n",
    "plt.ylabel(\"time\")"
   ]
  },
  {
   "cell_type": "code",
   "execution_count": 18,
   "id": "fbc622f4",
   "metadata": {},
   "outputs": [
    {
     "data": {
      "text/plain": [
       "Text(0, 0.5, 'time')"
      ]
     },
     "execution_count": 18,
     "metadata": {},
     "output_type": "execute_result"
    },
    {
     "data": {
      "image/png": "[encoded data removed]",
      "text/plain": [
       "<Figure size 432x288 with 1 Axes>"
      ]
     },
     "metadata": {
      "needs_background": "light"
     },
     "output_type": "display_data"
    }
   ],
   "source": [
    "#M_time\n",
    "plt.plot(support, M_time, marker='o', markersize=3,color='g')\n",
    "plt.title(\"Max Frequent itemsets Time\")\n",
    "plt.xlabel(\"min_support\")\n",
    "plt.ylabel(\"time\")"
   ]
  },
  {
   "cell_type": "code",
   "execution_count": 19,
   "id": "f0bc2cf4",
   "metadata": {},
   "outputs": [
    {
     "data": {
      "image/png": "[encoded data removed]",
      "text/plain": [
       "<Figure size 432x288 with 1 Axes>"
      ]
     },
     "metadata": {
      "needs_background": "light"
     },
     "output_type": "display_data"
    }
   ],
   "source": [
    "#Transformed Frequent itemsets Time\n",
    "plt.title(\"Transformed Frequent itemsets Time\")\n",
    "plt.xlabel(\"min_support\")\n",
    "plt.ylabel(\"time\")\n",
    "plt.plot(support, A_transtime, marker='o', markersize=3)\n",
    "plt.plot(support, C_transtime, marker='o', markersize=3)\n",
    "plt.plot(support, M_transtime, marker='o', markersize=3)\n",
    "\n",
    "    \n",
    "plt.legend(['A','C','M'])\n",
    "plt.show()"
   ]
  },
  {
   "cell_type": "code",
   "execution_count": 20,
   "id": "1f8571eb",
   "metadata": {},
   "outputs": [
    {
     "data": {
      "text/plain": [
       "Text(0, 0.5, 'time')"
      ]
     },
     "execution_count": 20,
     "metadata": {},
     "output_type": "execute_result"
    },
    {
     "data": {
      "image/png": "[encoded data removed]",
      "text/plain": [
       "<Figure size 432x288 with 1 Axes>"
      ]
     },
     "metadata": {
      "needs_background": "light"
     },
     "output_type": "display_data"
    }
   ],
   "source": [
    "#A_transtime\n",
    "plt.plot(support, A_transtime, marker='o', markersize=3,color='b')\n",
    "plt.title(\"All Frequent itemsets Transformed Time\")\n",
    "plt.xlabel(\"min_support\")\n",
    "plt.ylabel(\"time\")"
   ]
  },
  {
   "cell_type": "code",
   "execution_count": 21,
   "id": "952d1150",
   "metadata": {
    "scrolled": true
   },
   "outputs": [
    {
     "data": {
      "text/plain": [
       "Text(0, 0.5, 'time')"
      ]
     },
     "execution_count": 21,
     "metadata": {},
     "output_type": "execute_result"
    },
    {
     "data": {
      "image/png": "[encoded data removed]",
      "text/plain": [
       "<Figure size 432x288 with 1 Axes>"
      ]
     },
     "metadata": {
      "needs_background": "light"
     },
     "output_type": "display_data"
    }
   ],
   "source": [
    "#C_transtime\n",
    "plt.plot(support, C_transtime, marker='o', markersize=3,color='r')\n",
    "plt.title(\"Closed Frequent itemsets Transformed Time\")\n",
    "plt.xlabel(\"min_support\")\n",
    "plt.ylabel(\"time\")"
   ]
  },
  {
   "cell_type": "code",
   "execution_count": 22,
   "id": "3f74d923",
   "metadata": {
    "scrolled": true
   },
   "outputs": [
    {
     "data": {
      "text/plain": [
       "Text(0, 0.5, 'time')"
      ]
     },
     "execution_count": 22,
     "metadata": {},
     "output_type": "execute_result"
    },
    {
     "data": {
      "image/png": "[encoded data removed]",
      "text/plain": [
       "<Figure size 432x288 with 1 Axes>"
      ]
     },
     "metadata": {
      "needs_background": "light"
     },
     "output_type": "display_data"
    }
   ],
   "source": [
    "#M_transtime\n",
    "plt.plot(support, M_transtime, marker='o', markersize=3,color='g')\n",
    "plt.title(\"Maximal Frequent itemsets Transformed Time\")\n",
    "plt.xlabel(\"min_support\")\n",
    "plt.ylabel(\"time\")"
   ]
  },
  {
   "cell_type": "code",
   "execution_count": 23,
   "id": "53d55a20",
   "metadata": {},
   "outputs": [
    {
     "data": {
      "image/png": "[encoded data removed]",
      "text/plain": [
       "<Figure size 432x288 with 1 Axes>"
      ]
     },
     "metadata": {
      "needs_background": "light"
     },
     "output_type": "display_data"
    }
   ],
   "source": [
    "#Frequent itemsets Number\n",
    "plt.title(\"Frequent itemsets Number\")\n",
    "plt.xlabel(\"min_support\")\n",
    "plt.ylabel(\"Number\")\n",
    "plt.plot(support, A, marker='o', markersize=3)\n",
    "plt.plot(support, C, marker='o', markersize=3)\n",
    "plt.plot(support, M, marker='o', markersize=3)\n",
    "\n",
    "    \n",
    "plt.legend(['A','C','M'])\n",
    "plt.show()"
   ]
  },
  {
   "cell_type": "code",
   "execution_count": 24,
   "id": "6d4d7a14",
   "metadata": {},
   "outputs": [
    {
     "data": {
      "text/plain": [
       "Text(0, 0.5, 'Number')"
      ]
     },
     "execution_count": 24,
     "metadata": {},
     "output_type": "execute_result"
    },
    {
     "data": {
      "image/png": "[encoded data removed]",
      "text/plain": [
       "<Figure size 432x288 with 1 Axes>"
      ]
     },
     "metadata": {
      "needs_background": "light"
     },
     "output_type": "display_data"
    }
   ],
   "source": [
    "#A\n",
    "plt.plot(support, A, marker='o', markersize=3,color='b')\n",
    "plt.title(\"All Frequent itemsets Number\")\n",
    "plt.xlabel(\"min_support\")\n",
    "plt.ylabel(\"Number\")"
   ]
  },
  {
   "cell_type": "code",
   "execution_count": 25,
   "id": "2839f78c",
   "metadata": {},
   "outputs": [
    {
     "data": {
      "text/plain": [
       "Text(0, 0.5, 'Number')"
      ]
     },
     "execution_count": 25,
     "metadata": {},
     "output_type": "execute_result"
    },
    {
     "data": {
      "image/png": "[encoded data removed]",
      "text/plain": [
       "<Figure size 432x288 with 1 Axes>"
      ]
     },
     "metadata": {
      "needs_background": "light"
     },
     "output_type": "display_data"
    }
   ],
   "source": [
    "#C\n",
    "plt.plot(support, C, marker='o', markersize=3,color='r')\n",
    "plt.title(\"Closed Frequent itemsets Number\")\n",
    "plt.xlabel(\"min_support\")\n",
    "plt.ylabel(\"Number\")"
   ]
  },
  {
   "cell_type": "code",
   "execution_count": 26,
   "id": "5d6370a7",
   "metadata": {},
   "outputs": [
    {
     "data": {
      "text/plain": [
       "Text(0, 0.5, 'Number')"
      ]
     },
     "execution_count": 26,
     "metadata": {},
     "output_type": "execute_result"
    },
    {
     "data": {
      "image/png": "[encoded data removed]",
      "text/plain": [
       "<Figure size 432x288 with 1 Axes>"
      ]
     },
     "metadata": {
      "needs_background": "light"
     },
     "output_type": "display_data"
    }
   ],
   "source": [
    "#M\n",
    "plt.plot(support, M, marker='o', markersize=3,color='g')\n",
    "plt.title(\"Max Frequent itemsets Number\")\n",
    "plt.xlabel(\"min_support\")\n",
    "plt.ylabel(\"Number\")"
   ]
  },
  {
   "cell_type": "markdown",
   "id": "00241307",
   "metadata": {},
   "source": [
    "## beer and diaper"
   ]
  },
  {
   "cell_type": "code",
   "execution_count": 43,
   "id": "072c4c18",
   "metadata": {},
   "outputs": [
    {
     "data": {
      "text/html": [
       "<div>\n",
       "<style scoped>\n",
       "    .dataframe tbody tr th:only-of-type {\n",
       "        vertical-align: middle;\n",
       "    }\n",
       "\n",
       "    .dataframe tbody tr th {\n",
       "        vertical-align: top;\n",
       "    }\n",
       "\n",
       "    .dataframe thead th {\n",
       "        text-align: right;\n",
       "    }\n",
       "</style>\n",
       "<table border=\"1\" class=\"dataframe\">\n",
       "  <thead>\n",
       "    <tr style=\"text-align: right;\">\n",
       "      <th></th>\n",
       "      <th>item</th>\n",
       "    </tr>\n",
       "    <tr>\n",
       "      <th>TID</th>\n",
       "      <th></th>\n",
       "    </tr>\n",
       "  </thead>\n",
       "  <tbody>\n",
       "    <tr>\n",
       "      <th>1</th>\n",
       "      <td>bread,milk</td>\n",
       "    </tr>\n",
       "    <tr>\n",
       "      <th>2</th>\n",
       "      <td>beer,diaper,bread,egg</td>\n",
       "    </tr>\n",
       "    <tr>\n",
       "      <th>3</th>\n",
       "      <td>beer,milk,cola,diaper</td>\n",
       "    </tr>\n",
       "    <tr>\n",
       "      <th>4</th>\n",
       "      <td>beer,milk,bread,diaper</td>\n",
       "    </tr>\n",
       "    <tr>\n",
       "      <th>5</th>\n",
       "      <td>milk,cola,bread,diaper</td>\n",
       "    </tr>\n",
       "  </tbody>\n",
       "</table>\n",
       "</div>"
      ],
      "text/plain": [
       "                       item\n",
       "TID                        \n",
       "1                bread,milk\n",
       "2     beer,diaper,bread,egg\n",
       "3     beer,milk,cola,diaper\n",
       "4    beer,milk,bread,diaper\n",
       "5    milk,cola,bread,diaper"
      ]
     },
     "execution_count": 43,
     "metadata": {},
     "output_type": "execute_result"
    }
   ],
   "source": [
    "#create dataset\n",
    "beer_data = pd.read_csv('beer and diaper.csv', index_col='TID')\n",
    "beer_data"
   ]
  },
  {
   "cell_type": "code",
   "execution_count": 48,
   "id": "24d5b896",
   "metadata": {},
   "outputs": [
    {
     "data": {
      "text/plain": [
       "TID\n",
       "1                  [bread, milk]\n",
       "2     [beer, diaper, bread, egg]\n",
       "3     [beer, milk, cola, diaper]\n",
       "4    [beer, milk, bread, diaper]\n",
       "5    [milk, cola, bread, diaper]\n",
       "Name: item, dtype: object"
      ]
     },
     "execution_count": 48,
     "metadata": {},
     "output_type": "execute_result"
    }
   ],
   "source": [
    "beer_data[\"item\"].str.split(\",\").head()"
   ]
  },
  {
   "cell_type": "code",
   "execution_count": 49,
   "id": "c7339387",
   "metadata": {},
   "outputs": [
    {
     "name": "stdout",
     "output_type": "stream",
     "text": [
      "[['bread', 'milk'], ['beer', 'diaper', 'bread', 'egg'], ['beer', 'milk', 'cola', 'diaper'], ['beer', 'milk', 'bread', 'diaper'], ['milk', 'cola', 'bread', 'diaper']]\n"
     ]
    }
   ],
   "source": [
    "#dataframe to list\n",
    "products_list = beer_data[\"item\"].str.split(\",\").tolist()\n",
    "print(products_list)"
   ]
  },
  {
   "cell_type": "code",
   "execution_count": 50,
   "id": "4d3717d3",
   "metadata": {},
   "outputs": [
    {
     "data": {
      "text/plain": [
       "array([[False,  True, False, False, False,  True],\n",
       "       [ True,  True, False,  True,  True, False],\n",
       "       [ True, False,  True,  True, False,  True],\n",
       "       [ True,  True, False,  True, False,  True],\n",
       "       [False,  True,  True,  True, False,  True]])"
      ]
     },
     "execution_count": 50,
     "metadata": {},
     "output_type": "execute_result"
    }
   ],
   "source": [
    "#transaction\n",
    "from mlxtend.preprocessing import TransactionEncoder\n",
    "te = TransactionEncoder()\n",
    "te_ary = te.fit(products_list).transform(products_list)\n",
    "te_ary"
   ]
  },
  {
   "cell_type": "code",
   "execution_count": 51,
   "id": "c83a228f",
   "metadata": {},
   "outputs": [
    {
     "data": {
      "text/html": [
       "<div>\n",
       "<style scoped>\n",
       "    .dataframe tbody tr th:only-of-type {\n",
       "        vertical-align: middle;\n",
       "    }\n",
       "\n",
       "    .dataframe tbody tr th {\n",
       "        vertical-align: top;\n",
       "    }\n",
       "\n",
       "    .dataframe thead th {\n",
       "        text-align: right;\n",
       "    }\n",
       "</style>\n",
       "<table border=\"1\" class=\"dataframe\">\n",
       "  <thead>\n",
       "    <tr style=\"text-align: right;\">\n",
       "      <th></th>\n",
       "      <th>beer</th>\n",
       "      <th>bread</th>\n",
       "      <th>cola</th>\n",
       "      <th>diaper</th>\n",
       "      <th>egg</th>\n",
       "      <th>milk</th>\n",
       "    </tr>\n",
       "  </thead>\n",
       "  <tbody>\n",
       "    <tr>\n",
       "      <th>0</th>\n",
       "      <td>False</td>\n",
       "      <td>True</td>\n",
       "      <td>False</td>\n",
       "      <td>False</td>\n",
       "      <td>False</td>\n",
       "      <td>True</td>\n",
       "    </tr>\n",
       "    <tr>\n",
       "      <th>1</th>\n",
       "      <td>True</td>\n",
       "      <td>True</td>\n",
       "      <td>False</td>\n",
       "      <td>True</td>\n",
       "      <td>True</td>\n",
       "      <td>False</td>\n",
       "    </tr>\n",
       "    <tr>\n",
       "      <th>2</th>\n",
       "      <td>True</td>\n",
       "      <td>False</td>\n",
       "      <td>True</td>\n",
       "      <td>True</td>\n",
       "      <td>False</td>\n",
       "      <td>True</td>\n",
       "    </tr>\n",
       "    <tr>\n",
       "      <th>3</th>\n",
       "      <td>True</td>\n",
       "      <td>True</td>\n",
       "      <td>False</td>\n",
       "      <td>True</td>\n",
       "      <td>False</td>\n",
       "      <td>True</td>\n",
       "    </tr>\n",
       "    <tr>\n",
       "      <th>4</th>\n",
       "      <td>False</td>\n",
       "      <td>True</td>\n",
       "      <td>True</td>\n",
       "      <td>True</td>\n",
       "      <td>False</td>\n",
       "      <td>True</td>\n",
       "    </tr>\n",
       "  </tbody>\n",
       "</table>\n",
       "</div>"
      ],
      "text/plain": [
       "    beer  bread   cola  diaper    egg   milk\n",
       "0  False   True  False   False  False   True\n",
       "1   True   True  False    True   True  False\n",
       "2   True  False   True    True  False   True\n",
       "3   True   True  False    True  False   True\n",
       "4  False   True   True    True  False   True"
      ]
     },
     "execution_count": 51,
     "metadata": {},
     "output_type": "execute_result"
    }
   ],
   "source": [
    "#將transaction的arrary轉為dataframe格式\n",
    "df = pd.DataFrame(te_ary, columns=te.columns_)\n",
    "df"
   ]
  },
  {
   "cell_type": "code",
   "execution_count": 61,
   "id": "8fb2dee9",
   "metadata": {},
   "outputs": [],
   "source": [
    "#function to find a m c frequent itemsets\n",
    "def frequent_method(i):\n",
    "    print('\\nmin_support = ',i)\n",
    "\n",
    "    #Task1 : Compute Frequent Item Set using  mlxtend.frequent_patterns\n",
    "    start_time = time.time()\n",
    "    frequent = fpgrowth(df, min_support=i, use_colnames=True)\n",
    "    atime = float(time.time() - start_time)\n",
    "    print('\\nTime to find frequent itemset')\n",
    "    print(\"--- %s seconds ---\", atime)\n",
    "    fl = frequent['itemsets'].count()\n",
    "    itemset = frequent['itemsets'].values\n",
    "\n",
    "    print(\"\\nNumbers of all frequent itemsets: \", fl)\n",
    "    print(\"\\nAll frequent itemsets word: \\n\",itemset)\n",
    "    print(\"-------------------------------------------------------------------------------------------------------------\\n\")\n",
    "    \n",
    "    # Task 2&3: Find closed/max frequent itemset using frequent itemset found in task1\n",
    "    su = frequent.support.unique()#all unique support count\n",
    "    #Dictionay storing itemset with same support count key\n",
    "    fredic = {}\n",
    "    for i in range(len(su)):\n",
    "        inset = list(frequent.loc[frequent.support ==su[i]]['itemsets'])\n",
    "        fredic[su[i]] = inset\n",
    "    #Dictionay storing itemset with  support count <= key\n",
    "    fredic2 = {}\n",
    "    for i in range(len(su)):\n",
    "        inset2 = list(frequent.loc[frequent.support<=su[i]]['itemsets'])\n",
    "        fredic2[su[i]] = inset2\n",
    "\n",
    "    #Find Closed frequent itemset\n",
    "    start_time = time.time()\n",
    "    cl = []\n",
    "    for index, row in frequent.iterrows():\n",
    "        isclose = True\n",
    "        cli = row['itemsets']\n",
    "        cls = row['support']\n",
    "        checkset = fredic[cls]\n",
    "        for i in checkset:\n",
    "            if (cli!=i):\n",
    "                if(frozenset.issubset(cli,i)):\n",
    "                    isclose = False\n",
    "                    break\n",
    "    \n",
    "        if(isclose):\n",
    "            cl.append(row['itemsets'])\n",
    "            \n",
    "    ctime = float(time.time() - start_time)    \n",
    "    print('Time to find Close frequent itemset')\n",
    "    print(\"--- %s seconds ---\", ctime)\n",
    "\n",
    "    print(\"\\nNumbers of closed frequent itemsets: \", len(cl))\n",
    "    print(\"\\nClosed frequent itemsets word: \\n\", cl)\n",
    "    print(\"-------------------------------------------------------------------------------------------------------------\\n\")\n",
    "    \n",
    "    #Find Max frequent itemset\n",
    "    start_time = time.time()\n",
    "    ml = []\n",
    "    for index, row in frequent.iterrows():\n",
    "        isclose = True\n",
    "        cli = row['itemsets']\n",
    "        cls = row['support']\n",
    "        checkset = fredic2[cls]\n",
    "        for i in checkset:\n",
    "            if (cli!=i):\n",
    "                if(frozenset.issubset(cli,i)):\n",
    "                    isclose = False\n",
    "                    break\n",
    "    \n",
    "        if(isclose):\n",
    "            ml.append(row['itemsets'])\n",
    "    \n",
    "    mtime = float(time.time() - start_time)\n",
    "    print('Time to find Max frequent itemset')\n",
    "    print(\"--- %s seconds ---\",mtime)\n",
    "\n",
    "    print(\"\\nNumbers of max frequent itemsets: \", len(ml))\n",
    "    print(\"\\nMax frequent itemsets word: \\n\", ml)\n",
    "    print(\"___________________________________________________________________________________________________________\\n\")\n",
    "    A_time.append(atime)\n",
    "    A.append(frequent['itemsets'].count())\n",
    "    C_time.append(ctime)\n",
    "    C.append(len(cl))\n",
    "    M_time.append(mtime)\n",
    "    M.append(len(ml))"
   ]
  },
  {
   "cell_type": "code",
   "execution_count": 62,
   "id": "f0afd246",
   "metadata": {},
   "outputs": [
    {
     "name": "stdout",
     "output_type": "stream",
     "text": [
      "\n",
      "min_support =  0.35\n",
      "\n",
      "Time to find frequent itemset\n",
      "--- %s seconds --- 0.003996610641479492\n",
      "\n",
      "Numbers of all frequent itemsets:  17\n",
      "\n",
      "All frequent itemsets word: \n",
      " [frozenset({'milk'}) frozenset({'bread'}) frozenset({'diaper'})\n",
      " frozenset({'beer'}) frozenset({'cola'}) frozenset({'milk', 'bread'})\n",
      " frozenset({'diaper', 'bread'}) frozenset({'diaper', 'milk', 'bread'})\n",
      " frozenset({'diaper', 'milk'}) frozenset({'diaper', 'beer'})\n",
      " frozenset({'bread', 'beer'}) frozenset({'milk', 'beer'})\n",
      " frozenset({'diaper', 'bread', 'beer'})\n",
      " frozenset({'diaper', 'milk', 'beer'}) frozenset({'cola', 'diaper'})\n",
      " frozenset({'cola', 'milk'}) frozenset({'cola', 'milk', 'diaper'})]\n",
      "-------------------------------------------------------------------------------------------------------------\n",
      "\n",
      "Time to find Close frequent itemset\n",
      "--- %s seconds --- 0.0039975643157958984\n",
      "\n",
      "Numbers of closed frequent itemsets:  11\n",
      "\n",
      "Closed frequent itemsets word: \n",
      " [frozenset({'milk'}), frozenset({'bread'}), frozenset({'diaper'}), frozenset({'milk', 'bread'}), frozenset({'diaper', 'bread'}), frozenset({'diaper', 'milk', 'bread'}), frozenset({'diaper', 'milk'}), frozenset({'diaper', 'beer'}), frozenset({'diaper', 'bread', 'beer'}), frozenset({'diaper', 'milk', 'beer'}), frozenset({'cola', 'milk', 'diaper'})]\n",
      "-------------------------------------------------------------------------------------------------------------\n",
      "\n",
      "Time to find Max frequent itemset\n",
      "--- %s seconds --- 0.0\n",
      "\n",
      "Numbers of max frequent itemsets:  4\n",
      "\n",
      "Max frequent itemsets word: \n",
      " [frozenset({'diaper', 'milk', 'bread'}), frozenset({'diaper', 'bread', 'beer'}), frozenset({'diaper', 'milk', 'beer'}), frozenset({'cola', 'milk', 'diaper'})]\n",
      "___________________________________________________________________________________________________________\n",
      "\n",
      "\n",
      "min_support =  0.3\n",
      "\n",
      "Time to find frequent itemset\n",
      "--- %s seconds --- 0.003997087478637695\n",
      "\n",
      "Numbers of all frequent itemsets:  17\n",
      "\n",
      "All frequent itemsets word: \n",
      " [frozenset({'milk'}) frozenset({'bread'}) frozenset({'diaper'})\n",
      " frozenset({'beer'}) frozenset({'cola'}) frozenset({'milk', 'bread'})\n",
      " frozenset({'diaper', 'bread'}) frozenset({'diaper', 'milk', 'bread'})\n",
      " frozenset({'diaper', 'milk'}) frozenset({'diaper', 'beer'})\n",
      " frozenset({'bread', 'beer'}) frozenset({'milk', 'beer'})\n",
      " frozenset({'diaper', 'bread', 'beer'})\n",
      " frozenset({'diaper', 'milk', 'beer'}) frozenset({'cola', 'diaper'})\n",
      " frozenset({'cola', 'milk'}) frozenset({'cola', 'milk', 'diaper'})]\n",
      "-------------------------------------------------------------------------------------------------------------\n",
      "\n",
      "Time to find Close frequent itemset\n",
      "--- %s seconds --- 0.0\n",
      "\n",
      "Numbers of closed frequent itemsets:  11\n",
      "\n",
      "Closed frequent itemsets word: \n",
      " [frozenset({'milk'}), frozenset({'bread'}), frozenset({'diaper'}), frozenset({'milk', 'bread'}), frozenset({'diaper', 'bread'}), frozenset({'diaper', 'milk', 'bread'}), frozenset({'diaper', 'milk'}), frozenset({'diaper', 'beer'}), frozenset({'diaper', 'bread', 'beer'}), frozenset({'diaper', 'milk', 'beer'}), frozenset({'cola', 'milk', 'diaper'})]\n",
      "-------------------------------------------------------------------------------------------------------------\n",
      "\n",
      "Time to find Max frequent itemset\n",
      "--- %s seconds --- 0.004001140594482422\n",
      "\n",
      "Numbers of max frequent itemsets:  4\n",
      "\n",
      "Max frequent itemsets word: \n",
      " [frozenset({'diaper', 'milk', 'bread'}), frozenset({'diaper', 'bread', 'beer'}), frozenset({'diaper', 'milk', 'beer'}), frozenset({'cola', 'milk', 'diaper'})]\n",
      "___________________________________________________________________________________________________________\n",
      "\n",
      "\n",
      "min_support =  0.25\n",
      "\n",
      "Time to find frequent itemset\n",
      "--- %s seconds --- 0.00399327278137207\n",
      "\n",
      "Numbers of all frequent itemsets:  17\n",
      "\n",
      "All frequent itemsets word: \n",
      " [frozenset({'milk'}) frozenset({'bread'}) frozenset({'diaper'})\n",
      " frozenset({'beer'}) frozenset({'cola'}) frozenset({'milk', 'bread'})\n",
      " frozenset({'diaper', 'bread'}) frozenset({'diaper', 'milk', 'bread'})\n",
      " frozenset({'diaper', 'milk'}) frozenset({'diaper', 'beer'})\n",
      " frozenset({'bread', 'beer'}) frozenset({'milk', 'beer'})\n",
      " frozenset({'diaper', 'bread', 'beer'})\n",
      " frozenset({'diaper', 'milk', 'beer'}) frozenset({'cola', 'diaper'})\n",
      " frozenset({'cola', 'milk'}) frozenset({'cola', 'milk', 'diaper'})]\n",
      "-------------------------------------------------------------------------------------------------------------\n",
      "\n",
      "Time to find Close frequent itemset\n",
      "--- %s seconds --- 0.0\n",
      "\n",
      "Numbers of closed frequent itemsets:  11\n",
      "\n",
      "Closed frequent itemsets word: \n",
      " [frozenset({'milk'}), frozenset({'bread'}), frozenset({'diaper'}), frozenset({'milk', 'bread'}), frozenset({'diaper', 'bread'}), frozenset({'diaper', 'milk', 'bread'}), frozenset({'diaper', 'milk'}), frozenset({'diaper', 'beer'}), frozenset({'diaper', 'bread', 'beer'}), frozenset({'diaper', 'milk', 'beer'}), frozenset({'cola', 'milk', 'diaper'})]\n",
      "-------------------------------------------------------------------------------------------------------------\n",
      "\n",
      "Time to find Max frequent itemset\n",
      "--- %s seconds --- 0.004003763198852539\n",
      "\n",
      "Numbers of max frequent itemsets:  4\n",
      "\n",
      "Max frequent itemsets word: \n",
      " [frozenset({'diaper', 'milk', 'bread'}), frozenset({'diaper', 'bread', 'beer'}), frozenset({'diaper', 'milk', 'beer'}), frozenset({'cola', 'milk', 'diaper'})]\n",
      "___________________________________________________________________________________________________________\n",
      "\n",
      "\n",
      "min_support =  0.2\n",
      "\n",
      "Time to find frequent itemset\n",
      "--- %s seconds --- 0.0\n",
      "\n",
      "Numbers of all frequent itemsets:  35\n",
      "\n",
      "All frequent itemsets word: \n",
      " [frozenset({'milk'}) frozenset({'bread'}) frozenset({'diaper'})\n",
      " frozenset({'beer'}) frozenset({'egg'}) frozenset({'cola'})\n",
      " frozenset({'milk', 'bread'}) frozenset({'diaper', 'bread'})\n",
      " frozenset({'diaper', 'milk', 'bread'}) frozenset({'diaper', 'milk'})\n",
      " frozenset({'diaper', 'beer'}) frozenset({'bread', 'beer'})\n",
      " frozenset({'milk', 'beer'}) frozenset({'diaper', 'bread', 'beer'})\n",
      " frozenset({'milk', 'bread', 'beer'})\n",
      " frozenset({'diaper', 'milk', 'bread', 'beer'})\n",
      " frozenset({'diaper', 'milk', 'beer'}) frozenset({'beer', 'egg'})\n",
      " frozenset({'bread', 'egg'}) frozenset({'diaper', 'egg'})\n",
      " frozenset({'bread', 'beer', 'egg'}) frozenset({'diaper', 'beer', 'egg'})\n",
      " frozenset({'diaper', 'bread', 'egg'})\n",
      " frozenset({'diaper', 'bread', 'beer', 'egg'})\n",
      " frozenset({'cola', 'diaper'}) frozenset({'cola', 'milk'})\n",
      " frozenset({'cola', 'beer'}) frozenset({'cola', 'bread'})\n",
      " frozenset({'cola', 'milk', 'diaper'}) frozenset({'cola', 'milk', 'beer'})\n",
      " frozenset({'cola', 'beer', 'diaper'})\n",
      " frozenset({'cola', 'milk', 'beer', 'diaper'})\n",
      " frozenset({'cola', 'milk', 'bread'})\n",
      " frozenset({'cola', 'bread', 'diaper'})\n",
      " frozenset({'cola', 'milk', 'bread', 'diaper'})]\n",
      "-------------------------------------------------------------------------------------------------------------\n",
      "\n",
      "Time to find Close frequent itemset\n",
      "--- %s seconds --- 0.0\n",
      "\n",
      "Numbers of closed frequent itemsets:  15\n",
      "\n",
      "Closed frequent itemsets word: \n",
      " [frozenset({'milk'}), frozenset({'bread'}), frozenset({'diaper'}), frozenset({'milk', 'bread'}), frozenset({'diaper', 'bread'}), frozenset({'diaper', 'milk', 'bread'}), frozenset({'diaper', 'milk'}), frozenset({'diaper', 'beer'}), frozenset({'diaper', 'bread', 'beer'}), frozenset({'diaper', 'milk', 'bread', 'beer'}), frozenset({'diaper', 'milk', 'beer'}), frozenset({'diaper', 'bread', 'beer', 'egg'}), frozenset({'cola', 'milk', 'diaper'}), frozenset({'cola', 'milk', 'beer', 'diaper'}), frozenset({'cola', 'milk', 'bread', 'diaper'})]\n",
      "-------------------------------------------------------------------------------------------------------------\n",
      "\n",
      "Time to find Max frequent itemset\n",
      "--- %s seconds --- 0.004477024078369141\n",
      "\n",
      "Numbers of max frequent itemsets:  4\n",
      "\n",
      "Max frequent itemsets word: \n",
      " [frozenset({'diaper', 'milk', 'bread', 'beer'}), frozenset({'diaper', 'bread', 'beer', 'egg'}), frozenset({'cola', 'milk', 'beer', 'diaper'}), frozenset({'cola', 'milk', 'bread', 'diaper'})]\n",
      "___________________________________________________________________________________________________________\n",
      "\n",
      "\n",
      "min_support =  0.15\n",
      "\n",
      "Time to find frequent itemset\n",
      "--- %s seconds --- 0.0\n",
      "\n",
      "Numbers of all frequent itemsets:  35\n",
      "\n",
      "All frequent itemsets word: \n",
      " [frozenset({'milk'}) frozenset({'bread'}) frozenset({'diaper'})\n",
      " frozenset({'beer'}) frozenset({'egg'}) frozenset({'cola'})\n",
      " frozenset({'milk', 'bread'}) frozenset({'diaper', 'bread'})\n",
      " frozenset({'diaper', 'milk', 'bread'}) frozenset({'diaper', 'milk'})\n",
      " frozenset({'diaper', 'beer'}) frozenset({'bread', 'beer'})\n",
      " frozenset({'milk', 'beer'}) frozenset({'diaper', 'bread', 'beer'})\n",
      " frozenset({'milk', 'bread', 'beer'})\n",
      " frozenset({'diaper', 'milk', 'bread', 'beer'})\n",
      " frozenset({'diaper', 'milk', 'beer'}) frozenset({'beer', 'egg'})\n",
      " frozenset({'bread', 'egg'}) frozenset({'diaper', 'egg'})\n",
      " frozenset({'bread', 'beer', 'egg'}) frozenset({'diaper', 'beer', 'egg'})\n",
      " frozenset({'diaper', 'bread', 'egg'})\n",
      " frozenset({'diaper', 'bread', 'beer', 'egg'})\n",
      " frozenset({'cola', 'diaper'}) frozenset({'cola', 'milk'})\n",
      " frozenset({'cola', 'beer'}) frozenset({'cola', 'bread'})\n",
      " frozenset({'cola', 'milk', 'diaper'}) frozenset({'cola', 'milk', 'beer'})\n",
      " frozenset({'cola', 'beer', 'diaper'})\n",
      " frozenset({'cola', 'milk', 'beer', 'diaper'})\n",
      " frozenset({'cola', 'milk', 'bread'})\n",
      " frozenset({'cola', 'bread', 'diaper'})\n",
      " frozenset({'cola', 'milk', 'bread', 'diaper'})]\n",
      "-------------------------------------------------------------------------------------------------------------\n",
      "\n",
      "Time to find Close frequent itemset\n",
      "--- %s seconds --- 0.0\n",
      "\n",
      "Numbers of closed frequent itemsets:  15\n",
      "\n",
      "Closed frequent itemsets word: \n",
      " [frozenset({'milk'}), frozenset({'bread'}), frozenset({'diaper'}), frozenset({'milk', 'bread'}), frozenset({'diaper', 'bread'}), frozenset({'diaper', 'milk', 'bread'}), frozenset({'diaper', 'milk'}), frozenset({'diaper', 'beer'}), frozenset({'diaper', 'bread', 'beer'}), frozenset({'diaper', 'milk', 'bread', 'beer'}), frozenset({'diaper', 'milk', 'beer'}), frozenset({'diaper', 'bread', 'beer', 'egg'}), frozenset({'cola', 'milk', 'diaper'}), frozenset({'cola', 'milk', 'beer', 'diaper'}), frozenset({'cola', 'milk', 'bread', 'diaper'})]\n",
      "-------------------------------------------------------------------------------------------------------------\n",
      "\n",
      "Time to find Max frequent itemset\n",
      "--- %s seconds --- 0.0\n",
      "\n",
      "Numbers of max frequent itemsets:  4\n",
      "\n",
      "Max frequent itemsets word: \n",
      " [frozenset({'diaper', 'milk', 'bread', 'beer'}), frozenset({'diaper', 'bread', 'beer', 'egg'}), frozenset({'cola', 'milk', 'beer', 'diaper'}), frozenset({'cola', 'milk', 'bread', 'diaper'})]\n",
      "___________________________________________________________________________________________________________\n",
      "\n"
     ]
    }
   ],
   "source": [
    "A_time = []\n",
    "A = []\n",
    "C_time = []\n",
    "C = []\n",
    "M_time = []\n",
    "M = []\n",
    "for i in support:\n",
    "    frequent_method(i)"
   ]
  },
  {
   "cell_type": "code",
   "execution_count": 63,
   "id": "42b56b7a",
   "metadata": {},
   "outputs": [
    {
     "data": {
      "image/png": "[encoded data removed]",
      "text/plain": [
       "<Figure size 432x288 with 1 Axes>"
      ]
     },
     "metadata": {
      "needs_background": "light"
     },
     "output_type": "display_data"
    }
   ],
   "source": [
    "#Frequent itemsets Time\n",
    "plt.title(\"Frequent itemsets Time\")\n",
    "plt.xlabel(\"min_support\")\n",
    "plt.ylabel(\"time\")\n",
    "plt.plot(support, A_time, marker='o', markersize=3)\n",
    "plt.plot(support, C_time, marker='o', markersize=3)\n",
    "plt.plot(support, M_time, marker='o', markersize=3)\n",
    "\n",
    "    \n",
    "plt.legend(['A','C','M'])\n",
    "plt.show()"
   ]
  },
  {
   "cell_type": "code",
   "execution_count": 64,
   "id": "7f25543c",
   "metadata": {},
   "outputs": [
    {
     "data": {
      "image/png": "[encoded data removed]",
      "text/plain": [
       "<Figure size 432x288 with 1 Axes>"
      ]
     },
     "metadata": {
      "needs_background": "light"
     },
     "output_type": "display_data"
    }
   ],
   "source": [
    "#Frequent itemsets Number\n",
    "plt.title(\"Frequent itemsets Number\")\n",
    "plt.xlabel(\"min_support\")\n",
    "plt.ylabel(\"Number\")\n",
    "plt.plot(support, A, marker='o', markersize=3)\n",
    "plt.plot(support, C, marker='o', markersize=3)\n",
    "plt.plot(support, M, marker='o', markersize=3)\n",
    "\n",
    "    \n",
    "plt.legend(['A','C','M'])\n",
    "plt.show()"
   ]
  },
  {
   "cell_type": "code",
   "execution_count": null,
   "id": "ff2e93b6",
   "metadata": {},
   "outputs": [],
   "source": []
  }
 ],
 "metadata": {
  "accelerator": "GPU",
  "colab": {
   "provenance": []
  },
  "gpuClass": "standard",
  "kernelspec": {
   "display_name": "Python 3 (ipykernel)",
   "language": "python",
   "name": "python3"
  },
  "language_info": {
   "codemirror_mode": {
    "name": "ipython",
    "version": 3
   },
   "file_extension": ".py",
   "mimetype": "text/x-python",
   "name": "python",
   "nbconvert_exporter": "python",
   "pygments_lexer": "ipython3",
   "version": "3.9.12"
  }
 },
 "nbformat": 4,
 "nbformat_minor": 5
}
