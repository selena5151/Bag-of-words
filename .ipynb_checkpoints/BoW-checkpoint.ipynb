{
 "cells": [
  {
   "cell_type": "code",
   "execution_count": 1,
   "id": "f782a5e3",
   "metadata": {
    "id": "f782a5e3"
   },
   "outputs": [],
   "source": [
    "# Imports\n",
    "import pandas as pd\n",
    "import matplotlib.pyplot as plt\n",
    "import seaborn as sns\n",
    "from scipy import stats\n",
    "\n",
    "# Supress the unnumbered hordes of warnings that make output completely unreadable\n",
    "import warnings\n",
    "warnings.filterwarnings(\"ignore\", category=FutureWarning)"
   ]
  },
  {
   "cell_type": "code",
   "execution_count": 2,
   "id": "43490ff6",
   "metadata": {
    "id": "43490ff6"
   },
   "outputs": [],
   "source": [
    "docword_column_names = ['docID', 'wordID', 'count']\n",
    "docword_data = pd.read_csv('docword.kos.txt', delim_whitespace=True, header=None, names=docword_column_names)"
   ]
  },
  {
   "cell_type": "code",
   "execution_count": 3,
   "id": "fcdf8b23",
   "metadata": {
    "colab": {
     "base_uri": "https://localhost:8080/",
     "height": 206
    },
    "id": "fcdf8b23",
    "outputId": "eccf2d5a-b3c6-4bc4-d69e-21d6a790d406"
   },
   "outputs": [
    {
     "data": {
      "text/html": [
       "<div>\n",
       "<style scoped>\n",
       "    .dataframe tbody tr th:only-of-type {\n",
       "        vertical-align: middle;\n",
       "    }\n",
       "\n",
       "    .dataframe tbody tr th {\n",
       "        vertical-align: top;\n",
       "    }\n",
       "\n",
       "    .dataframe thead th {\n",
       "        text-align: right;\n",
       "    }\n",
       "</style>\n",
       "<table border=\"1\" class=\"dataframe\">\n",
       "  <thead>\n",
       "    <tr style=\"text-align: right;\">\n",
       "      <th></th>\n",
       "      <th>docID</th>\n",
       "      <th>wordID</th>\n",
       "      <th>count</th>\n",
       "    </tr>\n",
       "  </thead>\n",
       "  <tbody>\n",
       "    <tr>\n",
       "      <th>0</th>\n",
       "      <td>3430</td>\n",
       "      <td>NaN</td>\n",
       "      <td>NaN</td>\n",
       "    </tr>\n",
       "    <tr>\n",
       "      <th>1</th>\n",
       "      <td>6906</td>\n",
       "      <td>NaN</td>\n",
       "      <td>NaN</td>\n",
       "    </tr>\n",
       "    <tr>\n",
       "      <th>2</th>\n",
       "      <td>353160</td>\n",
       "      <td>NaN</td>\n",
       "      <td>NaN</td>\n",
       "    </tr>\n",
       "    <tr>\n",
       "      <th>3</th>\n",
       "      <td>1</td>\n",
       "      <td>61.0</td>\n",
       "      <td>2.0</td>\n",
       "    </tr>\n",
       "    <tr>\n",
       "      <th>4</th>\n",
       "      <td>1</td>\n",
       "      <td>76.0</td>\n",
       "      <td>1.0</td>\n",
       "    </tr>\n",
       "  </tbody>\n",
       "</table>\n",
       "</div>"
      ],
      "text/plain": [
       "    docID  wordID  count\n",
       "0    3430     NaN    NaN\n",
       "1    6906     NaN    NaN\n",
       "2  353160     NaN    NaN\n",
       "3       1    61.0    2.0\n",
       "4       1    76.0    1.0"
      ]
     },
     "execution_count": 3,
     "metadata": {},
     "output_type": "execute_result"
    }
   ],
   "source": [
    "docword_data.head()"
   ]
  },
  {
   "cell_type": "code",
   "execution_count": 4,
   "id": "ed8c8432",
   "metadata": {
    "colab": {
     "base_uri": "https://localhost:8080/",
     "height": 206
    },
    "id": "ed8c8432",
    "outputId": "e43a8a44-d5d6-451b-e3eb-1d3541385a08"
   },
   "outputs": [],
   "source": [
    "docword_data = docword_data.dropna(axis=0, how='any')\n",
    "docword_data['wordID'] = docword_data['wordID'].astype('int')"
   ]
  },
  {
   "cell_type": "code",
   "execution_count": 5,
   "id": "3740ca2a",
   "metadata": {},
   "outputs": [
    {
     "data": {
      "text/html": [
       "<div>\n",
       "<style scoped>\n",
       "    .dataframe tbody tr th:only-of-type {\n",
       "        vertical-align: middle;\n",
       "    }\n",
       "\n",
       "    .dataframe tbody tr th {\n",
       "        vertical-align: top;\n",
       "    }\n",
       "\n",
       "    .dataframe thead th {\n",
       "        text-align: right;\n",
       "    }\n",
       "</style>\n",
       "<table border=\"1\" class=\"dataframe\">\n",
       "  <thead>\n",
       "    <tr style=\"text-align: right;\">\n",
       "      <th></th>\n",
       "      <th>docID</th>\n",
       "      <th>wordID</th>\n",
       "      <th>count</th>\n",
       "    </tr>\n",
       "  </thead>\n",
       "  <tbody>\n",
       "    <tr>\n",
       "      <th>3</th>\n",
       "      <td>1</td>\n",
       "      <td>61</td>\n",
       "      <td>2.0</td>\n",
       "    </tr>\n",
       "    <tr>\n",
       "      <th>4</th>\n",
       "      <td>1</td>\n",
       "      <td>76</td>\n",
       "      <td>1.0</td>\n",
       "    </tr>\n",
       "    <tr>\n",
       "      <th>5</th>\n",
       "      <td>1</td>\n",
       "      <td>89</td>\n",
       "      <td>1.0</td>\n",
       "    </tr>\n",
       "    <tr>\n",
       "      <th>6</th>\n",
       "      <td>1</td>\n",
       "      <td>211</td>\n",
       "      <td>1.0</td>\n",
       "    </tr>\n",
       "    <tr>\n",
       "      <th>7</th>\n",
       "      <td>1</td>\n",
       "      <td>296</td>\n",
       "      <td>1.0</td>\n",
       "    </tr>\n",
       "  </tbody>\n",
       "</table>\n",
       "</div>"
      ],
      "text/plain": [
       "   docID  wordID  count\n",
       "3      1      61    2.0\n",
       "4      1      76    1.0\n",
       "5      1      89    1.0\n",
       "6      1     211    1.0\n",
       "7      1     296    1.0"
      ]
     },
     "execution_count": 5,
     "metadata": {},
     "output_type": "execute_result"
    }
   ],
   "source": [
    "docword_data.head()"
   ]
  },
  {
   "cell_type": "code",
   "execution_count": 6,
   "id": "5ed0a453",
   "metadata": {
    "id": "5ed0a453"
   },
   "outputs": [],
   "source": [
    "df = docword_data.pivot(index='docID', columns='wordID', values='count')"
   ]
  },
  {
   "cell_type": "code",
   "execution_count": 7,
   "id": "084d1b23",
   "metadata": {
    "colab": {
     "base_uri": "https://localhost:8080/",
     "height": 267
    },
    "id": "084d1b23",
    "outputId": "71c121a7-a43d-46e8-97c6-c206de607230"
   },
   "outputs": [
    {
     "data": {
      "text/html": [
       "<div>\n",
       "<style scoped>\n",
       "    .dataframe tbody tr th:only-of-type {\n",
       "        vertical-align: middle;\n",
       "    }\n",
       "\n",
       "    .dataframe tbody tr th {\n",
       "        vertical-align: top;\n",
       "    }\n",
       "\n",
       "    .dataframe thead th {\n",
       "        text-align: right;\n",
       "    }\n",
       "</style>\n",
       "<table border=\"1\" class=\"dataframe\">\n",
       "  <thead>\n",
       "    <tr style=\"text-align: right;\">\n",
       "      <th>wordID</th>\n",
       "      <th>1</th>\n",
       "      <th>2</th>\n",
       "      <th>3</th>\n",
       "      <th>4</th>\n",
       "      <th>5</th>\n",
       "      <th>6</th>\n",
       "      <th>7</th>\n",
       "      <th>8</th>\n",
       "      <th>9</th>\n",
       "      <th>10</th>\n",
       "      <th>...</th>\n",
       "      <th>6897</th>\n",
       "      <th>6898</th>\n",
       "      <th>6899</th>\n",
       "      <th>6900</th>\n",
       "      <th>6901</th>\n",
       "      <th>6902</th>\n",
       "      <th>6903</th>\n",
       "      <th>6904</th>\n",
       "      <th>6905</th>\n",
       "      <th>6906</th>\n",
       "    </tr>\n",
       "    <tr>\n",
       "      <th>docID</th>\n",
       "      <th></th>\n",
       "      <th></th>\n",
       "      <th></th>\n",
       "      <th></th>\n",
       "      <th></th>\n",
       "      <th></th>\n",
       "      <th></th>\n",
       "      <th></th>\n",
       "      <th></th>\n",
       "      <th></th>\n",
       "      <th></th>\n",
       "      <th></th>\n",
       "      <th></th>\n",
       "      <th></th>\n",
       "      <th></th>\n",
       "      <th></th>\n",
       "      <th></th>\n",
       "      <th></th>\n",
       "      <th></th>\n",
       "      <th></th>\n",
       "      <th></th>\n",
       "    </tr>\n",
       "  </thead>\n",
       "  <tbody>\n",
       "    <tr>\n",
       "      <th>1</th>\n",
       "      <td>NaN</td>\n",
       "      <td>NaN</td>\n",
       "      <td>NaN</td>\n",
       "      <td>NaN</td>\n",
       "      <td>NaN</td>\n",
       "      <td>NaN</td>\n",
       "      <td>NaN</td>\n",
       "      <td>NaN</td>\n",
       "      <td>NaN</td>\n",
       "      <td>NaN</td>\n",
       "      <td>...</td>\n",
       "      <td>NaN</td>\n",
       "      <td>NaN</td>\n",
       "      <td>NaN</td>\n",
       "      <td>NaN</td>\n",
       "      <td>NaN</td>\n",
       "      <td>NaN</td>\n",
       "      <td>NaN</td>\n",
       "      <td>NaN</td>\n",
       "      <td>1.0</td>\n",
       "      <td>NaN</td>\n",
       "    </tr>\n",
       "    <tr>\n",
       "      <th>2</th>\n",
       "      <td>NaN</td>\n",
       "      <td>NaN</td>\n",
       "      <td>NaN</td>\n",
       "      <td>NaN</td>\n",
       "      <td>NaN</td>\n",
       "      <td>NaN</td>\n",
       "      <td>NaN</td>\n",
       "      <td>NaN</td>\n",
       "      <td>NaN</td>\n",
       "      <td>NaN</td>\n",
       "      <td>...</td>\n",
       "      <td>NaN</td>\n",
       "      <td>NaN</td>\n",
       "      <td>NaN</td>\n",
       "      <td>NaN</td>\n",
       "      <td>NaN</td>\n",
       "      <td>NaN</td>\n",
       "      <td>NaN</td>\n",
       "      <td>NaN</td>\n",
       "      <td>NaN</td>\n",
       "      <td>NaN</td>\n",
       "    </tr>\n",
       "    <tr>\n",
       "      <th>3</th>\n",
       "      <td>NaN</td>\n",
       "      <td>NaN</td>\n",
       "      <td>NaN</td>\n",
       "      <td>NaN</td>\n",
       "      <td>NaN</td>\n",
       "      <td>NaN</td>\n",
       "      <td>NaN</td>\n",
       "      <td>NaN</td>\n",
       "      <td>NaN</td>\n",
       "      <td>NaN</td>\n",
       "      <td>...</td>\n",
       "      <td>NaN</td>\n",
       "      <td>NaN</td>\n",
       "      <td>NaN</td>\n",
       "      <td>NaN</td>\n",
       "      <td>NaN</td>\n",
       "      <td>NaN</td>\n",
       "      <td>NaN</td>\n",
       "      <td>NaN</td>\n",
       "      <td>NaN</td>\n",
       "      <td>NaN</td>\n",
       "    </tr>\n",
       "    <tr>\n",
       "      <th>4</th>\n",
       "      <td>NaN</td>\n",
       "      <td>NaN</td>\n",
       "      <td>NaN</td>\n",
       "      <td>NaN</td>\n",
       "      <td>NaN</td>\n",
       "      <td>NaN</td>\n",
       "      <td>NaN</td>\n",
       "      <td>NaN</td>\n",
       "      <td>NaN</td>\n",
       "      <td>NaN</td>\n",
       "      <td>...</td>\n",
       "      <td>NaN</td>\n",
       "      <td>NaN</td>\n",
       "      <td>NaN</td>\n",
       "      <td>NaN</td>\n",
       "      <td>NaN</td>\n",
       "      <td>NaN</td>\n",
       "      <td>NaN</td>\n",
       "      <td>NaN</td>\n",
       "      <td>NaN</td>\n",
       "      <td>NaN</td>\n",
       "    </tr>\n",
       "    <tr>\n",
       "      <th>5</th>\n",
       "      <td>NaN</td>\n",
       "      <td>NaN</td>\n",
       "      <td>NaN</td>\n",
       "      <td>NaN</td>\n",
       "      <td>NaN</td>\n",
       "      <td>NaN</td>\n",
       "      <td>NaN</td>\n",
       "      <td>NaN</td>\n",
       "      <td>NaN</td>\n",
       "      <td>NaN</td>\n",
       "      <td>...</td>\n",
       "      <td>NaN</td>\n",
       "      <td>NaN</td>\n",
       "      <td>NaN</td>\n",
       "      <td>NaN</td>\n",
       "      <td>NaN</td>\n",
       "      <td>NaN</td>\n",
       "      <td>NaN</td>\n",
       "      <td>NaN</td>\n",
       "      <td>NaN</td>\n",
       "      <td>NaN</td>\n",
       "    </tr>\n",
       "  </tbody>\n",
       "</table>\n",
       "<p>5 rows × 6906 columns</p>\n",
       "</div>"
      ],
      "text/plain": [
       "wordID  1     2     3     4     5     6     7     8     9     10    ...  6897  \\\n",
       "docID                                                               ...         \n",
       "1        NaN   NaN   NaN   NaN   NaN   NaN   NaN   NaN   NaN   NaN  ...   NaN   \n",
       "2        NaN   NaN   NaN   NaN   NaN   NaN   NaN   NaN   NaN   NaN  ...   NaN   \n",
       "3        NaN   NaN   NaN   NaN   NaN   NaN   NaN   NaN   NaN   NaN  ...   NaN   \n",
       "4        NaN   NaN   NaN   NaN   NaN   NaN   NaN   NaN   NaN   NaN  ...   NaN   \n",
       "5        NaN   NaN   NaN   NaN   NaN   NaN   NaN   NaN   NaN   NaN  ...   NaN   \n",
       "\n",
       "wordID  6898  6899  6900  6901  6902  6903  6904  6905  6906  \n",
       "docID                                                         \n",
       "1        NaN   NaN   NaN   NaN   NaN   NaN   NaN   1.0   NaN  \n",
       "2        NaN   NaN   NaN   NaN   NaN   NaN   NaN   NaN   NaN  \n",
       "3        NaN   NaN   NaN   NaN   NaN   NaN   NaN   NaN   NaN  \n",
       "4        NaN   NaN   NaN   NaN   NaN   NaN   NaN   NaN   NaN  \n",
       "5        NaN   NaN   NaN   NaN   NaN   NaN   NaN   NaN   NaN  \n",
       "\n",
       "[5 rows x 6906 columns]"
      ]
     },
     "execution_count": 7,
     "metadata": {},
     "output_type": "execute_result"
    }
   ],
   "source": [
    "df.head()"
   ]
  },
  {
   "cell_type": "code",
   "execution_count": 8,
   "id": "f6d7d5d7",
   "metadata": {
    "id": "f6d7d5d7"
   },
   "outputs": [],
   "source": [
    "def sum_to_boolean(x):\n",
    "    if x>=1:\n",
    "        return True\n",
    "    else:\n",
    "        return False\n",
    "\n",
    "df_final = df.applymap(sum_to_boolean)"
   ]
  },
  {
   "cell_type": "code",
   "execution_count": 9,
   "id": "f48c05e1",
   "metadata": {
    "colab": {
     "base_uri": "https://localhost:8080/",
     "height": 267
    },
    "id": "f48c05e1",
    "outputId": "92018c64-9dd3-4425-8f36-e40902d5d85e"
   },
   "outputs": [
    {
     "data": {
      "text/html": [
       "<div>\n",
       "<style scoped>\n",
       "    .dataframe tbody tr th:only-of-type {\n",
       "        vertical-align: middle;\n",
       "    }\n",
       "\n",
       "    .dataframe tbody tr th {\n",
       "        vertical-align: top;\n",
       "    }\n",
       "\n",
       "    .dataframe thead th {\n",
       "        text-align: right;\n",
       "    }\n",
       "</style>\n",
       "<table border=\"1\" class=\"dataframe\">\n",
       "  <thead>\n",
       "    <tr style=\"text-align: right;\">\n",
       "      <th>wordID</th>\n",
       "      <th>1</th>\n",
       "      <th>2</th>\n",
       "      <th>3</th>\n",
       "      <th>4</th>\n",
       "      <th>5</th>\n",
       "      <th>6</th>\n",
       "      <th>7</th>\n",
       "      <th>8</th>\n",
       "      <th>9</th>\n",
       "      <th>10</th>\n",
       "      <th>...</th>\n",
       "      <th>6897</th>\n",
       "      <th>6898</th>\n",
       "      <th>6899</th>\n",
       "      <th>6900</th>\n",
       "      <th>6901</th>\n",
       "      <th>6902</th>\n",
       "      <th>6903</th>\n",
       "      <th>6904</th>\n",
       "      <th>6905</th>\n",
       "      <th>6906</th>\n",
       "    </tr>\n",
       "    <tr>\n",
       "      <th>docID</th>\n",
       "      <th></th>\n",
       "      <th></th>\n",
       "      <th></th>\n",
       "      <th></th>\n",
       "      <th></th>\n",
       "      <th></th>\n",
       "      <th></th>\n",
       "      <th></th>\n",
       "      <th></th>\n",
       "      <th></th>\n",
       "      <th></th>\n",
       "      <th></th>\n",
       "      <th></th>\n",
       "      <th></th>\n",
       "      <th></th>\n",
       "      <th></th>\n",
       "      <th></th>\n",
       "      <th></th>\n",
       "      <th></th>\n",
       "      <th></th>\n",
       "      <th></th>\n",
       "    </tr>\n",
       "  </thead>\n",
       "  <tbody>\n",
       "    <tr>\n",
       "      <th>1</th>\n",
       "      <td>False</td>\n",
       "      <td>False</td>\n",
       "      <td>False</td>\n",
       "      <td>False</td>\n",
       "      <td>False</td>\n",
       "      <td>False</td>\n",
       "      <td>False</td>\n",
       "      <td>False</td>\n",
       "      <td>False</td>\n",
       "      <td>False</td>\n",
       "      <td>...</td>\n",
       "      <td>False</td>\n",
       "      <td>False</td>\n",
       "      <td>False</td>\n",
       "      <td>False</td>\n",
       "      <td>False</td>\n",
       "      <td>False</td>\n",
       "      <td>False</td>\n",
       "      <td>False</td>\n",
       "      <td>True</td>\n",
       "      <td>False</td>\n",
       "    </tr>\n",
       "    <tr>\n",
       "      <th>2</th>\n",
       "      <td>False</td>\n",
       "      <td>False</td>\n",
       "      <td>False</td>\n",
       "      <td>False</td>\n",
       "      <td>False</td>\n",
       "      <td>False</td>\n",
       "      <td>False</td>\n",
       "      <td>False</td>\n",
       "      <td>False</td>\n",
       "      <td>False</td>\n",
       "      <td>...</td>\n",
       "      <td>False</td>\n",
       "      <td>False</td>\n",
       "      <td>False</td>\n",
       "      <td>False</td>\n",
       "      <td>False</td>\n",
       "      <td>False</td>\n",
       "      <td>False</td>\n",
       "      <td>False</td>\n",
       "      <td>False</td>\n",
       "      <td>False</td>\n",
       "    </tr>\n",
       "    <tr>\n",
       "      <th>3</th>\n",
       "      <td>False</td>\n",
       "      <td>False</td>\n",
       "      <td>False</td>\n",
       "      <td>False</td>\n",
       "      <td>False</td>\n",
       "      <td>False</td>\n",
       "      <td>False</td>\n",
       "      <td>False</td>\n",
       "      <td>False</td>\n",
       "      <td>False</td>\n",
       "      <td>...</td>\n",
       "      <td>False</td>\n",
       "      <td>False</td>\n",
       "      <td>False</td>\n",
       "      <td>False</td>\n",
       "      <td>False</td>\n",
       "      <td>False</td>\n",
       "      <td>False</td>\n",
       "      <td>False</td>\n",
       "      <td>False</td>\n",
       "      <td>False</td>\n",
       "    </tr>\n",
       "    <tr>\n",
       "      <th>4</th>\n",
       "      <td>False</td>\n",
       "      <td>False</td>\n",
       "      <td>False</td>\n",
       "      <td>False</td>\n",
       "      <td>False</td>\n",
       "      <td>False</td>\n",
       "      <td>False</td>\n",
       "      <td>False</td>\n",
       "      <td>False</td>\n",
       "      <td>False</td>\n",
       "      <td>...</td>\n",
       "      <td>False</td>\n",
       "      <td>False</td>\n",
       "      <td>False</td>\n",
       "      <td>False</td>\n",
       "      <td>False</td>\n",
       "      <td>False</td>\n",
       "      <td>False</td>\n",
       "      <td>False</td>\n",
       "      <td>False</td>\n",
       "      <td>False</td>\n",
       "    </tr>\n",
       "    <tr>\n",
       "      <th>5</th>\n",
       "      <td>False</td>\n",
       "      <td>False</td>\n",
       "      <td>False</td>\n",
       "      <td>False</td>\n",
       "      <td>False</td>\n",
       "      <td>False</td>\n",
       "      <td>False</td>\n",
       "      <td>False</td>\n",
       "      <td>False</td>\n",
       "      <td>False</td>\n",
       "      <td>...</td>\n",
       "      <td>False</td>\n",
       "      <td>False</td>\n",
       "      <td>False</td>\n",
       "      <td>False</td>\n",
       "      <td>False</td>\n",
       "      <td>False</td>\n",
       "      <td>False</td>\n",
       "      <td>False</td>\n",
       "      <td>False</td>\n",
       "      <td>False</td>\n",
       "    </tr>\n",
       "  </tbody>\n",
       "</table>\n",
       "<p>5 rows × 6906 columns</p>\n",
       "</div>"
      ],
      "text/plain": [
       "wordID   1      2      3      4      5      6      7      8      9      10    \\\n",
       "docID                                                                          \n",
       "1       False  False  False  False  False  False  False  False  False  False   \n",
       "2       False  False  False  False  False  False  False  False  False  False   \n",
       "3       False  False  False  False  False  False  False  False  False  False   \n",
       "4       False  False  False  False  False  False  False  False  False  False   \n",
       "5       False  False  False  False  False  False  False  False  False  False   \n",
       "\n",
       "wordID  ...   6897   6898   6899   6900   6901   6902   6903   6904   6905  \\\n",
       "docID   ...                                                                  \n",
       "1       ...  False  False  False  False  False  False  False  False   True   \n",
       "2       ...  False  False  False  False  False  False  False  False  False   \n",
       "3       ...  False  False  False  False  False  False  False  False  False   \n",
       "4       ...  False  False  False  False  False  False  False  False  False   \n",
       "5       ...  False  False  False  False  False  False  False  False  False   \n",
       "\n",
       "wordID   6906  \n",
       "docID          \n",
       "1       False  \n",
       "2       False  \n",
       "3       False  \n",
       "4       False  \n",
       "5       False  \n",
       "\n",
       "[5 rows x 6906 columns]"
      ]
     },
     "execution_count": 9,
     "metadata": {},
     "output_type": "execute_result"
    }
   ],
   "source": [
    "df_final.head()"
   ]
  },
  {
   "cell_type": "code",
   "execution_count": 10,
   "id": "d9392ee2",
   "metadata": {
    "colab": {
     "base_uri": "https://localhost:8080/",
     "height": 538
    },
    "id": "d9392ee2",
    "outputId": "2317f410-ff1f-40c3-91a3-b724e58c77ca"
   },
   "outputs": [],
   "source": [
    "import time\n",
    "from mlxtend.frequent_patterns import fpgrowth"
   ]
  },
  {
   "cell_type": "code",
   "execution_count": 11,
   "id": "2d688e4a",
   "metadata": {},
   "outputs": [],
   "source": [
    "vocabularyFile = open(\"vocab.kos.txt\", \"r\")\n",
    "vocabulary = (vocabularyFile.read()).split('\\n')"
   ]
  },
  {
   "cell_type": "code",
   "execution_count": 16,
   "id": "fd680170",
   "metadata": {},
   "outputs": [],
   "source": [
    "support = [0.35,0.3,0.25,0.2,0.15]"
   ]
  },
  {
   "cell_type": "code",
   "execution_count": 17,
   "id": "9e35238d",
   "metadata": {},
   "outputs": [],
   "source": [
    "def frequent_method(i):\n",
    "    print('\\nmin_support = ',i)\n",
    "\n",
    "    #Task1 : Compute Frequent Item Set using  mlxtend.frequent_patterns\n",
    "    start_time = time.time()\n",
    "    frequent = fpgrowth(df_final, min_support=i, use_colnames=True)\n",
    "    atime = float(time.time() - start_time)\n",
    "    print('\\nTime to find frequent itemset')\n",
    "    print(\"--- %s seconds ---\", atime)\n",
    "\n",
    "    itemset = frequent['itemsets'].values\n",
    "    for i in range(len(itemset)):\n",
    "            tempFrequentWordSet = []\n",
    "    \n",
    "            for frequentSet in itemset:\n",
    "                tempWordSet = set()\n",
    "\n",
    "                for wordIndex in list(frequentSet):\n",
    "                    tempWordSet.add(vocabulary[wordIndex-1])\n",
    "            \n",
    "                tempFrequentWordSet.append(tempWordSet)\n",
    "    fl = frequent['itemsets'].count()\n",
    "    print(\"\\nNumbers of all frequent itemsets: \", fl)\n",
    "    print(\"\\nAll frequent itemsets word: \\n\",tempFrequentWordSet)\n",
    "    print(\"-------------------------------------------------------------------------------------------------------------\\n\")\n",
    "    \n",
    "    # Task 2&3: Find closed/max frequent itemset using frequent itemset found in task1\n",
    "    su = frequent.support.unique()#all unique support count\n",
    "    #Dictionay storing itemset with same support count key\n",
    "    fredic = {}\n",
    "    for i in range(len(su)):\n",
    "        inset = list(frequent.loc[frequent.support ==su[i]]['itemsets'])\n",
    "        fredic[su[i]] = inset\n",
    "    #Dictionay storing itemset with  support count <= key\n",
    "    fredic2 = {}\n",
    "    for i in range(len(su)):\n",
    "        inset2 = list(frequent.loc[frequent.support<=su[i]]['itemsets'])\n",
    "        fredic2[su[i]] = inset2\n",
    "\n",
    "    #Find Closed frequent itemset\n",
    "    start_time = time.time()\n",
    "    cl = []\n",
    "    for index, row in frequent.iterrows():\n",
    "        isclose = True\n",
    "        cli = row['itemsets']\n",
    "        cls = row['support']\n",
    "        checkset = fredic[cls]\n",
    "        for i in checkset:\n",
    "            if (cli!=i):\n",
    "                if(frozenset.issubset(cli,i)):\n",
    "                    isclose = False\n",
    "                    break\n",
    "    \n",
    "        if(isclose):\n",
    "            cl.append(row['itemsets'])\n",
    "            \n",
    "    ctime = float(time.time() - start_time)    \n",
    "    print('Time to find Close frequent itemset')\n",
    "    print(\"--- %s seconds ---\", ctime)\n",
    "    print(\"\\nNumbers of closed frequent itemsets: \", len(cl))\n",
    "\n",
    "    itemset = cl\n",
    "    for i in range(len(itemset)):\n",
    "            tempFrequentWordSet = []\n",
    "    \n",
    "            for frequentSet in itemset:\n",
    "                tempWordSet = set()\n",
    "\n",
    "                for wordIndex in list(frequentSet):\n",
    "                    tempWordSet.add(vocabulary[wordIndex-1])\n",
    "            \n",
    "                tempFrequentWordSet.append(tempWordSet)\n",
    "                       \n",
    "    print(\"\\nClosed frequent itemsets word: \\n\", tempFrequentWordSet)\n",
    "    print(\"-------------------------------------------------------------------------------------------------------------\\n\")\n",
    "    \n",
    "    #Find Max frequent itemset\n",
    "    start_time = time.time()\n",
    "    ml = []\n",
    "    for index, row in frequent.iterrows():\n",
    "        isclose = True\n",
    "        cli = row['itemsets']\n",
    "        cls = row['support']\n",
    "        checkset = fredic2[cls]\n",
    "        for i in checkset:\n",
    "            if (cli!=i):\n",
    "                if(frozenset.issubset(cli,i)):\n",
    "                    isclose = False\n",
    "                    break\n",
    "    \n",
    "        if(isclose):\n",
    "            ml.append(row['itemsets'])\n",
    "    \n",
    "    mtime = float(time.time() - start_time)\n",
    "    print('Time to find Max frequent itemset')\n",
    "    print(\"--- %s seconds ---\",mtime)\n",
    "    print(\"\\nNumbers of max frequent itemsets: \", len(ml))\n",
    "\n",
    "    itemset = ml\n",
    "    for i in range(len(itemset)):\n",
    "            tempFrequentWordSet = []\n",
    "    \n",
    "            for frequentSet in itemset:\n",
    "                tempWordSet = set()\n",
    "\n",
    "                for wordIndex in list(frequentSet):\n",
    "                    tempWordSet.add(vocabulary[wordIndex-1])\n",
    "            \n",
    "                tempFrequentWordSet.append(tempWordSet)\n",
    "                       \n",
    "    print(\"\\nMax frequent itemsets word: \\n\", tempFrequentWordSet)\n",
    "    print(\"___________________________________________________________________________________________________________\\n\")\n",
    "    A_time.append(atime)\n",
    "    A.append(frequent['itemsets'].count())\n",
    "    C_time.append(ctime)\n",
    "    C.append(len(cl))\n",
    "    M_time.append(mtime)\n",
    "    M.append(len(ml))\n",
    "    \n",
    "\n"
   ]
  },
  {
   "cell_type": "code",
   "execution_count": 18,
   "id": "fc26ca17",
   "metadata": {},
   "outputs": [
    {
     "name": "stdout",
     "output_type": "stream",
     "text": [
      "\n",
      "min_support =  0.35\n",
      "\n",
      "Time to find frequent itemset\n",
      "--- %s seconds --- 0.16674256324768066\n",
      "\n",
      "Numbers of all frequent itemsets:  8\n",
      "\n",
      "All frequent itemsets word: \n",
      " [{'bush'}, {'general'}, {'kerry'}, {'war'}, {'house'}, {'democratic'}, {'poll'}, {'bush', 'general'}]\n",
      "-------------------------------------------------------------------------------------------------------------\n",
      "\n",
      "Time to find Close frequent itemset\n",
      "--- %s seconds --- 0.0009965896606445312\n",
      "\n",
      "Numbers of closed frequent itemsets:  8\n",
      "\n",
      "Closed frequent itemsets word: \n",
      " [{'bush'}, {'general'}, {'kerry'}, {'war'}, {'house'}, {'democratic'}, {'poll'}, {'bush', 'general'}]\n",
      "-------------------------------------------------------------------------------------------------------------\n",
      "\n",
      "Time to find Max frequent itemset\n",
      "--- %s seconds --- 0.0\n",
      "\n",
      "Numbers of max frequent itemsets:  6\n",
      "\n",
      "Max frequent itemsets word: \n",
      " [{'kerry'}, {'war'}, {'house'}, {'democratic'}, {'poll'}, {'bush', 'general'}]\n",
      "___________________________________________________________________________________________________________\n",
      "\n",
      "\n",
      "min_support =  0.3\n",
      "\n",
      "Time to find frequent itemset\n",
      "--- %s seconds --- 0.16276121139526367\n",
      "\n",
      "Numbers of all frequent itemsets:  13\n",
      "\n",
      "All frequent itemsets word: \n",
      " [{'bush'}, {'general'}, {'kerry'}, {'war'}, {'house'}, {'democratic'}, {'poll'}, {'democrats'}, {'republicans'}, {'time'}, {'bush', 'general'}, {'bush', 'kerry'}, {'kerry', 'general'}]\n",
      "-------------------------------------------------------------------------------------------------------------\n",
      "\n",
      "Time to find Close frequent itemset\n",
      "--- %s seconds --- 0.0\n",
      "\n",
      "Numbers of closed frequent itemsets:  13\n",
      "\n",
      "Closed frequent itemsets word: \n",
      " [{'bush'}, {'general'}, {'kerry'}, {'war'}, {'house'}, {'democratic'}, {'poll'}, {'democrats'}, {'republicans'}, {'time'}, {'bush', 'general'}, {'bush', 'kerry'}, {'kerry', 'general'}]\n",
      "-------------------------------------------------------------------------------------------------------------\n",
      "\n",
      "Time to find Max frequent itemset\n",
      "--- %s seconds --- 0.0\n",
      "\n",
      "Numbers of max frequent itemsets:  10\n",
      "\n",
      "Max frequent itemsets word: \n",
      " [{'war'}, {'house'}, {'democratic'}, {'poll'}, {'democrats'}, {'republicans'}, {'time'}, {'bush', 'general'}, {'bush', 'kerry'}, {'kerry', 'general'}]\n",
      "___________________________________________________________________________________________________________\n",
      "\n",
      "\n",
      "min_support =  0.25\n",
      "\n",
      "Time to find frequent itemset\n",
      "--- %s seconds --- 0.17569923400878906\n",
      "\n",
      "Numbers of all frequent itemsets:  29\n",
      "\n",
      "All frequent itemsets word: \n",
      " [{'bush'}, {'general'}, {'kerry'}, {'war'}, {'house'}, {'president'}, {'campaign'}, {'democratic'}, {'poll'}, {'democrats'}, {'republicans'}, {'election'}, {'media'}, {'primary'}, {'senate'}, {'polls'}, {'time'}, {'people'}, {'state'}, {'bush', 'general'}, {'bush', 'kerry'}, {'kerry', 'general'}, {'bush', 'kerry', 'general'}, {'bush', 'war'}, {'house', 'bush'}, {'democratic', 'bush'}, {'democratic', 'kerry'}, {'bush', 'poll'}, {'primary', 'democratic'}]\n",
      "-------------------------------------------------------------------------------------------------------------\n",
      "\n",
      "Time to find Close frequent itemset\n",
      "--- %s seconds --- 0.000997304916381836\n",
      "\n",
      "Numbers of closed frequent itemsets:  29\n",
      "\n",
      "Closed frequent itemsets word: \n",
      " [{'bush'}, {'general'}, {'kerry'}, {'war'}, {'house'}, {'president'}, {'campaign'}, {'democratic'}, {'poll'}, {'democrats'}, {'republicans'}, {'election'}, {'media'}, {'primary'}, {'senate'}, {'polls'}, {'time'}, {'people'}, {'state'}, {'bush', 'general'}, {'bush', 'kerry'}, {'kerry', 'general'}, {'bush', 'kerry', 'general'}, {'bush', 'war'}, {'house', 'bush'}, {'democratic', 'bush'}, {'democratic', 'kerry'}, {'bush', 'poll'}, {'primary', 'democratic'}]\n",
      "-------------------------------------------------------------------------------------------------------------\n",
      "\n",
      "Time to find Max frequent itemset\n",
      "--- %s seconds --- 0.0009984970092773438\n",
      "\n",
      "Numbers of max frequent itemsets:  18\n",
      "\n",
      "Max frequent itemsets word: \n",
      " [{'president'}, {'campaign'}, {'democrats'}, {'republicans'}, {'election'}, {'media'}, {'senate'}, {'polls'}, {'time'}, {'people'}, {'state'}, {'bush', 'kerry', 'general'}, {'bush', 'war'}, {'house', 'bush'}, {'democratic', 'bush'}, {'democratic', 'kerry'}, {'bush', 'poll'}, {'primary', 'democratic'}]\n",
      "___________________________________________________________________________________________________________\n",
      "\n",
      "\n",
      "min_support =  0.2\n",
      "\n",
      "Time to find frequent itemset\n",
      "--- %s seconds --- 0.20989251136779785\n",
      "\n",
      "Numbers of all frequent itemsets:  58\n",
      "\n",
      "All frequent itemsets word: \n",
      " [{'bush'}, {'general'}, {'kerry'}, {'war'}, {'house'}, {'president'}, {'iraq'}, {'republican'}, {'john'}, {'administration'}, {'vote'}, {'news'}, {'campaign'}, {'democratic'}, {'poll'}, {'democrats'}, {'republicans'}, {'election'}, {'media'}, {'primary'}, {'senate'}, {'polls'}, {'race'}, {'time'}, {'elections'}, {'people'}, {'bushs'}, {'state'}, {'states'}, {'political'}, {'national'}, {'bush', 'general'}, {'bush', 'kerry'}, {'kerry', 'general'}, {'bush', 'kerry', 'general'}, {'bush', 'war'}, {'war', 'general'}, {'war', 'kerry'}, {'house', 'bush'}, {'house', 'democratic'}, {'bush', 'president'}, {'administration', 'bush'}, {'democratic', 'bush'}, {'democratic', 'kerry'}, {'democratic', 'general'}, {'bush', 'poll'}, {'kerry', 'poll'}, {'poll', 'general'}, {'democratic', 'poll'}, {'democrats', 'bush'}, {'democratic', 'democrats'}, {'bush', 'republicans'}, {'election', 'bush'}, {'election', 'general'}, {'bush', 'media'}, {'primary', 'democratic'}, {'primary', 'kerry'}, {'bush', 'time'}]\n",
      "-------------------------------------------------------------------------------------------------------------\n",
      "\n",
      "Time to find Close frequent itemset\n",
      "--- %s seconds --- 0.0009965896606445312\n",
      "\n",
      "Numbers of closed frequent itemsets:  58\n",
      "\n",
      "Closed frequent itemsets word: \n",
      " [{'bush'}, {'general'}, {'kerry'}, {'war'}, {'house'}, {'president'}, {'iraq'}, {'republican'}, {'john'}, {'administration'}, {'vote'}, {'news'}, {'campaign'}, {'democratic'}, {'poll'}, {'democrats'}, {'republicans'}, {'election'}, {'media'}, {'primary'}, {'senate'}, {'polls'}, {'race'}, {'time'}, {'elections'}, {'people'}, {'bushs'}, {'state'}, {'states'}, {'political'}, {'national'}, {'bush', 'general'}, {'bush', 'kerry'}, {'kerry', 'general'}, {'bush', 'kerry', 'general'}, {'bush', 'war'}, {'war', 'general'}, {'war', 'kerry'}, {'house', 'bush'}, {'house', 'democratic'}, {'bush', 'president'}, {'administration', 'bush'}, {'democratic', 'bush'}, {'democratic', 'kerry'}, {'democratic', 'general'}, {'bush', 'poll'}, {'kerry', 'poll'}, {'poll', 'general'}, {'democratic', 'poll'}, {'democrats', 'bush'}, {'democratic', 'democrats'}, {'bush', 'republicans'}, {'election', 'bush'}, {'election', 'general'}, {'bush', 'media'}, {'primary', 'democratic'}, {'primary', 'kerry'}, {'bush', 'time'}]\n",
      "-------------------------------------------------------------------------------------------------------------\n",
      "\n",
      "Time to find Max frequent itemset\n",
      "--- %s seconds --- 0.0009949207305908203\n",
      "\n",
      "Numbers of max frequent itemsets:  40\n",
      "\n",
      "Max frequent itemsets word: \n",
      " [{'iraq'}, {'republican'}, {'john'}, {'vote'}, {'news'}, {'campaign'}, {'senate'}, {'polls'}, {'race'}, {'elections'}, {'people'}, {'bushs'}, {'state'}, {'states'}, {'political'}, {'national'}, {'bush', 'kerry', 'general'}, {'bush', 'war'}, {'war', 'general'}, {'war', 'kerry'}, {'house', 'bush'}, {'house', 'democratic'}, {'bush', 'president'}, {'administration', 'bush'}, {'democratic', 'bush'}, {'democratic', 'kerry'}, {'democratic', 'general'}, {'bush', 'poll'}, {'kerry', 'poll'}, {'poll', 'general'}, {'democratic', 'poll'}, {'democrats', 'bush'}, {'democratic', 'democrats'}, {'bush', 'republicans'}, {'election', 'bush'}, {'election', 'general'}, {'bush', 'media'}, {'primary', 'democratic'}, {'primary', 'kerry'}, {'bush', 'time'}]\n",
      "___________________________________________________________________________________________________________\n",
      "\n",
      "\n",
      "min_support =  0.15\n",
      "\n",
      "Time to find frequent itemset\n",
      "--- %s seconds --- 0.3697378635406494\n",
      "\n",
      "Numbers of all frequent itemsets:  188\n",
      "\n",
      "All frequent itemsets word: \n",
      " [{'bush'}, {'general'}, {'kerry'}, {'war'}, {'house'}, {'president'}, {'iraq'}, {'republican'}, {'john'}, {'administration'}, {'vote'}, {'news'}, {'voters'}, {'november'}, {'lead'}, {'campaign'}, {'democratic'}, {'poll'}, {'democrats'}, {'republicans'}, {'election'}, {'media'}, {'primary'}, {'senate'}, {'polls'}, {'race'}, {'win'}, {'races'}, {'governor'}, {'economy'}, {'time'}, {'elections'}, {'people'}, {'bushs'}, {'american'}, {'candidate'}, {'year'}, {'running'}, {'numbers'}, {'state'}, {'states'}, {'party'}, {'years'}, {'country'}, {'oct'}, {'political'}, {'gop'}, {'national'}, {'dean'}, {'bush', 'general'}, {'bush', 'kerry'}, {'kerry', 'general'}, {'bush', 'kerry', 'general'}, {'bush', 'war'}, {'war', 'general'}, {'war', 'kerry'}, {'democratic', 'war'}, {'bush', 'war', 'general'}, {'bush', 'war', 'kerry'}, {'war', 'kerry', 'general'}, {'bush', 'war', 'kerry', 'general'}, {'democratic', 'bush', 'war'}, {'house', 'bush'}, {'house', 'general'}, {'house', 'war'}, {'house', 'kerry'}, {'house', 'democratic'}, {'house', 'poll'}, {'house', 'bush', 'general'}, {'house', 'bush', 'war'}, {'house', 'bush', 'kerry'}, {'house', 'democratic', 'bush'}, {'bush', 'president'}, {'president', 'general'}, {'iraq', 'bush'}, {'iraq', 'war'}, {'republican', 'bush'}, {'john', 'kerry'}, {'john', 'bush'}, {'administration', 'bush'}, {'vote', 'bush'}, {'vote', 'general'}, {'vote', 'kerry'}, {'bush', 'campaign'}, {'campaign', 'kerry'}, {'campaign', 'general'}, {'democratic', 'campaign'}, {'democratic', 'bush'}, {'democratic', 'kerry'}, {'democratic', 'general'}, {'democratic', 'bush', 'kerry'}, {'democratic', 'bush', 'general'}, {'democratic', 'kerry', 'general'}, {'democratic', 'bush', 'kerry', 'general'}, {'bush', 'poll'}, {'kerry', 'poll'}, {'poll', 'general'}, {'democratic', 'poll'}, {'war', 'poll'}, {'bush', 'kerry', 'poll'}, {'poll', 'bush', 'general'}, {'poll', 'kerry', 'general'}, {'poll', 'bush', 'kerry', 'general'}, {'democratic', 'kerry', 'poll'}, {'democratic', 'bush', 'poll'}, {'democrats', 'bush'}, {'democratic', 'democrats'}, {'democrats', 'kerry'}, {'house', 'democrats'}, {'democrats', 'general'}, {'democrats', 'poll'}, {'democrats', 'war'}, {'democratic', 'democrats', 'bush'}, {'democrats', 'bush', 'kerry'}, {'democratic', 'democrats', 'kerry'}, {'house', 'democrats', 'bush'}, {'house', 'democratic', 'democrats'}, {'democrats', 'bush', 'general'}, {'bush', 'republicans'}, {'republicans', 'general'}, {'democrats', 'republicans'}, {'democratic', 'republicans'}, {'house', 'republicans'}, {'kerry', 'republicans'}, {'republicans', 'poll'}, {'war', 'republicans'}, {'bush', 'republicans', 'general'}, {'democrats', 'bush', 'republicans'}, {'democratic', 'bush', 'republicans'}, {'democratic', 'democrats', 'republicans'}, {'bush', 'kerry', 'republicans'}, {'election', 'bush'}, {'election', 'general'}, {'election', 'kerry'}, {'election', 'democratic'}, {'election', 'poll'}, {'election', 'democrats'}, {'house', 'election'}, {'election', 'war'}, {'election', 'republicans'}, {'election', 'bush', 'general'}, {'election', 'bush', 'kerry'}, {'election', 'kerry', 'general'}, {'bush', 'media'}, {'kerry', 'media'}, {'democratic', 'media'}, {'media', 'general'}, {'war', 'media'}, {'media', 'poll'}, {'house', 'media'}, {'bush', 'kerry', 'media'}, {'media', 'bush', 'general'}, {'primary', 'democratic'}, {'primary', 'kerry'}, {'primary', 'poll'}, {'primary', 'bush'}, {'primary', 'democrats'}, {'primary', 'democratic', 'kerry'}, {'primary', 'democratic', 'poll'}, {'primary', 'kerry', 'poll'}, {'primary', 'democratic', 'bush'}, {'bush', 'senate'}, {'house', 'senate'}, {'democratic', 'senate'}, {'senate', 'general'}, {'senate', 'republicans'}, {'democrats', 'senate'}, {'senate', 'kerry'}, {'senate', 'poll'}, {'polls', 'kerry'}, {'polls', 'bush'}, {'polls', 'poll'}, {'polls', 'general'}, {'democratic', 'polls'}, {'polls', 'bush', 'kerry'}, {'polls', 'kerry', 'poll'}, {'polls', 'bush', 'poll'}, {'polls', 'bush', 'general'}, {'polls', 'kerry', 'general'}, {'bush', 'time'}, {'time', 'general'}, {'time', 'kerry'}, {'people', 'bush'}, {'bushs', 'bush'}, {'bush', 'state'}, {'states', 'bush'}, {'political', 'bush'}, {'bush', 'national'}]\n",
      "-------------------------------------------------------------------------------------------------------------\n",
      "\n",
      "Time to find Close frequent itemset\n",
      "--- %s seconds --- 0.0032439231872558594\n",
      "\n",
      "Numbers of closed frequent itemsets:  188\n",
      "\n",
      "Closed frequent itemsets word: \n",
      " [{'bush'}, {'general'}, {'kerry'}, {'war'}, {'house'}, {'president'}, {'iraq'}, {'republican'}, {'john'}, {'administration'}, {'vote'}, {'news'}, {'voters'}, {'november'}, {'lead'}, {'campaign'}, {'democratic'}, {'poll'}, {'democrats'}, {'republicans'}, {'election'}, {'media'}, {'primary'}, {'senate'}, {'polls'}, {'race'}, {'win'}, {'races'}, {'governor'}, {'economy'}, {'time'}, {'elections'}, {'people'}, {'bushs'}, {'american'}, {'candidate'}, {'year'}, {'running'}, {'numbers'}, {'state'}, {'states'}, {'party'}, {'years'}, {'country'}, {'oct'}, {'political'}, {'gop'}, {'national'}, {'dean'}, {'bush', 'general'}, {'bush', 'kerry'}, {'kerry', 'general'}, {'bush', 'kerry', 'general'}, {'bush', 'war'}, {'war', 'general'}, {'war', 'kerry'}, {'democratic', 'war'}, {'bush', 'war', 'general'}, {'bush', 'war', 'kerry'}, {'war', 'kerry', 'general'}, {'bush', 'war', 'kerry', 'general'}, {'democratic', 'bush', 'war'}, {'house', 'bush'}, {'house', 'general'}, {'house', 'war'}, {'house', 'kerry'}, {'house', 'democratic'}, {'house', 'poll'}, {'house', 'bush', 'general'}, {'house', 'bush', 'war'}, {'house', 'bush', 'kerry'}, {'house', 'democratic', 'bush'}, {'bush', 'president'}, {'president', 'general'}, {'iraq', 'bush'}, {'iraq', 'war'}, {'republican', 'bush'}, {'john', 'kerry'}, {'john', 'bush'}, {'administration', 'bush'}, {'vote', 'bush'}, {'vote', 'general'}, {'vote', 'kerry'}, {'bush', 'campaign'}, {'campaign', 'kerry'}, {'campaign', 'general'}, {'democratic', 'campaign'}, {'democratic', 'bush'}, {'democratic', 'kerry'}, {'democratic', 'general'}, {'democratic', 'bush', 'kerry'}, {'democratic', 'bush', 'general'}, {'democratic', 'kerry', 'general'}, {'democratic', 'bush', 'kerry', 'general'}, {'bush', 'poll'}, {'kerry', 'poll'}, {'poll', 'general'}, {'democratic', 'poll'}, {'war', 'poll'}, {'bush', 'kerry', 'poll'}, {'poll', 'bush', 'general'}, {'poll', 'kerry', 'general'}, {'poll', 'bush', 'kerry', 'general'}, {'democratic', 'kerry', 'poll'}, {'democratic', 'bush', 'poll'}, {'democrats', 'bush'}, {'democratic', 'democrats'}, {'democrats', 'kerry'}, {'house', 'democrats'}, {'democrats', 'general'}, {'democrats', 'poll'}, {'democrats', 'war'}, {'democratic', 'democrats', 'bush'}, {'democrats', 'bush', 'kerry'}, {'democratic', 'democrats', 'kerry'}, {'house', 'democrats', 'bush'}, {'house', 'democratic', 'democrats'}, {'democrats', 'bush', 'general'}, {'bush', 'republicans'}, {'republicans', 'general'}, {'democrats', 'republicans'}, {'democratic', 'republicans'}, {'house', 'republicans'}, {'kerry', 'republicans'}, {'republicans', 'poll'}, {'war', 'republicans'}, {'bush', 'republicans', 'general'}, {'democrats', 'bush', 'republicans'}, {'democratic', 'bush', 'republicans'}, {'democratic', 'democrats', 'republicans'}, {'bush', 'kerry', 'republicans'}, {'election', 'bush'}, {'election', 'general'}, {'election', 'kerry'}, {'election', 'democratic'}, {'election', 'poll'}, {'election', 'democrats'}, {'house', 'election'}, {'election', 'war'}, {'election', 'republicans'}, {'election', 'bush', 'general'}, {'election', 'bush', 'kerry'}, {'election', 'kerry', 'general'}, {'bush', 'media'}, {'kerry', 'media'}, {'democratic', 'media'}, {'media', 'general'}, {'war', 'media'}, {'media', 'poll'}, {'house', 'media'}, {'bush', 'kerry', 'media'}, {'media', 'bush', 'general'}, {'primary', 'democratic'}, {'primary', 'kerry'}, {'primary', 'poll'}, {'primary', 'bush'}, {'primary', 'democrats'}, {'primary', 'democratic', 'kerry'}, {'primary', 'democratic', 'poll'}, {'primary', 'kerry', 'poll'}, {'primary', 'democratic', 'bush'}, {'bush', 'senate'}, {'house', 'senate'}, {'democratic', 'senate'}, {'senate', 'general'}, {'senate', 'republicans'}, {'democrats', 'senate'}, {'senate', 'kerry'}, {'senate', 'poll'}, {'polls', 'kerry'}, {'polls', 'bush'}, {'polls', 'poll'}, {'polls', 'general'}, {'democratic', 'polls'}, {'polls', 'bush', 'kerry'}, {'polls', 'kerry', 'poll'}, {'polls', 'bush', 'poll'}, {'polls', 'bush', 'general'}, {'polls', 'kerry', 'general'}, {'bush', 'time'}, {'time', 'general'}, {'time', 'kerry'}, {'people', 'bush'}, {'bushs', 'bush'}, {'bush', 'state'}, {'states', 'bush'}, {'political', 'bush'}, {'bush', 'national'}]\n",
      "-------------------------------------------------------------------------------------------------------------\n",
      "\n",
      "Time to find Max frequent itemset\n",
      "--- %s seconds --- 0.0058307647705078125\n",
      "\n",
      "Numbers of max frequent itemsets:  107\n",
      "\n",
      "Max frequent itemsets word: \n",
      " [{'news'}, {'voters'}, {'november'}, {'lead'}, {'race'}, {'win'}, {'races'}, {'governor'}, {'economy'}, {'elections'}, {'american'}, {'candidate'}, {'year'}, {'running'}, {'numbers'}, {'party'}, {'years'}, {'country'}, {'oct'}, {'gop'}, {'dean'}, {'bush', 'war', 'kerry', 'general'}, {'democratic', 'bush', 'war'}, {'house', 'poll'}, {'house', 'bush', 'general'}, {'house', 'bush', 'war'}, {'house', 'bush', 'kerry'}, {'house', 'democratic', 'bush'}, {'bush', 'president'}, {'president', 'general'}, {'iraq', 'bush'}, {'iraq', 'war'}, {'republican', 'bush'}, {'john', 'kerry'}, {'john', 'bush'}, {'administration', 'bush'}, {'vote', 'bush'}, {'vote', 'general'}, {'vote', 'kerry'}, {'bush', 'campaign'}, {'campaign', 'kerry'}, {'campaign', 'general'}, {'democratic', 'campaign'}, {'democratic', 'bush', 'kerry', 'general'}, {'war', 'poll'}, {'poll', 'bush', 'kerry', 'general'}, {'democratic', 'kerry', 'poll'}, {'democratic', 'bush', 'poll'}, {'democrats', 'poll'}, {'democrats', 'war'}, {'democratic', 'democrats', 'bush'}, {'democrats', 'bush', 'kerry'}, {'democratic', 'democrats', 'kerry'}, {'house', 'democrats', 'bush'}, {'house', 'democratic', 'democrats'}, {'democrats', 'bush', 'general'}, {'house', 'republicans'}, {'republicans', 'poll'}, {'war', 'republicans'}, {'bush', 'republicans', 'general'}, {'democrats', 'bush', 'republicans'}, {'democratic', 'bush', 'republicans'}, {'democratic', 'democrats', 'republicans'}, {'bush', 'kerry', 'republicans'}, {'election', 'democratic'}, {'election', 'poll'}, {'election', 'democrats'}, {'house', 'election'}, {'election', 'war'}, {'election', 'republicans'}, {'election', 'bush', 'general'}, {'election', 'bush', 'kerry'}, {'election', 'kerry', 'general'}, {'democratic', 'media'}, {'war', 'media'}, {'media', 'poll'}, {'house', 'media'}, {'bush', 'kerry', 'media'}, {'media', 'bush', 'general'}, {'primary', 'democrats'}, {'primary', 'democratic', 'kerry'}, {'primary', 'democratic', 'poll'}, {'primary', 'kerry', 'poll'}, {'primary', 'democratic', 'bush'}, {'bush', 'senate'}, {'house', 'senate'}, {'democratic', 'senate'}, {'senate', 'general'}, {'senate', 'republicans'}, {'democrats', 'senate'}, {'senate', 'kerry'}, {'senate', 'poll'}, {'democratic', 'polls'}, {'polls', 'bush', 'kerry'}, {'polls', 'kerry', 'poll'}, {'polls', 'bush', 'poll'}, {'polls', 'bush', 'general'}, {'polls', 'kerry', 'general'}, {'bush', 'time'}, {'time', 'general'}, {'time', 'kerry'}, {'people', 'bush'}, {'bushs', 'bush'}, {'bush', 'state'}, {'states', 'bush'}, {'political', 'bush'}, {'bush', 'national'}]\n",
      "___________________________________________________________________________________________________________\n",
      "\n"
     ]
    }
   ],
   "source": [
    "A_time = []\n",
    "A = []\n",
    "C_time = []\n",
    "C = []\n",
    "M_time = []\n",
    "M = []\n",
    "for i in support:\n",
    "    frequent_method(i)"
   ]
  },
  {
   "cell_type": "code",
   "execution_count": 19,
   "id": "dd3bb90a",
   "metadata": {},
   "outputs": [
    {
     "name": "stdout",
     "output_type": "stream",
     "text": [
      "[0.16674256324768066, 0.16276121139526367, 0.17569923400878906, 0.20989251136779785, 0.3697378635406494]\n"
     ]
    }
   ],
   "source": [
    "print(A_time)"
   ]
  },
  {
   "cell_type": "code",
   "execution_count": 21,
   "id": "4972b01d",
   "metadata": {},
   "outputs": [
    {
     "data": {
      "text/plain": [
       "Text(0.5, 0, 'Support')"
      ]
     },
     "execution_count": 21,
     "metadata": {},
     "output_type": "execute_result"
    },
    {
     "data": {
      "image/png": "[encoded data removed]",
      "text/plain": [
       "<Figure size 432x288 with 1 Axes>"
      ]
     },
     "metadata": {
      "needs_background": "light"
     },
     "output_type": "display_data"
    }
   ],
   "source": [
    "plt.plot(support,A_time,color=(255/255,100/255,100/255))\n",
    "plt.title(\"All frequent Time\") # title\n",
    "plt.ylabel(\"Time\") # y label\n",
    "plt.xlabel(\"Support\") # x label"
   ]
  },
  {
   "cell_type": "code",
   "execution_count": 25,
   "id": "85fa92d8",
   "metadata": {},
   "outputs": [
    {
     "data": {
      "text/plain": [
       "Text(0.5, 0, 'Support')"
      ]
     },
     "execution_count": 25,
     "metadata": {},
     "output_type": "execute_result"
    },
    {
     "data": {
      "image/png": "[encoded data removed]",
      "text/plain": [
       "<Figure size 432x288 with 1 Axes>"
      ]
     },
     "metadata": {
      "needs_background": "light"
     },
     "output_type": "display_data"
    }
   ],
   "source": [
    "plt.plot(support,C_time,color=(100/255,100/255,200/255))\n",
    "plt.title(\"Closed frequent Time\") # title\n",
    "plt.ylabel(\"Time\") # y label\n",
    "plt.xlabel(\"Support\") # x label"
   ]
  },
  {
   "cell_type": "code",
   "execution_count": 24,
   "id": "40b70477",
   "metadata": {},
   "outputs": [
    {
     "data": {
      "text/plain": [
       "Text(0.5, 0, 'Support')"
      ]
     },
     "execution_count": 24,
     "metadata": {},
     "output_type": "execute_result"
    },
    {
     "data": {
      "image/png": "[encoded data removed]",
      "text/plain": [
       "<Figure size 432x288 with 1 Axes>"
      ]
     },
     "metadata": {
      "needs_background": "light"
     },
     "output_type": "display_data"
    }
   ],
   "source": [
    "plt.plot(support,M_time,color=(100/255,200/255,100/255))\n",
    "plt.title(\"Max frequent Time\") # title\n",
    "plt.ylabel(\"Time\") # y label\n",
    "plt.xlabel(\"Support\") # x label"
   ]
  },
  {
   "cell_type": "code",
   "execution_count": 26,
   "id": "84ab8431",
   "metadata": {},
   "outputs": [
    {
     "data": {
      "text/plain": [
       "Text(0.5, 0, 'Support')"
      ]
     },
     "execution_count": 26,
     "metadata": {},
     "output_type": "execute_result"
    },
    {
     "data": {
      "image/png": "[encoded data removed]",
      "text/plain": [
       "<Figure size 432x288 with 1 Axes>"
      ]
     },
     "metadata": {
      "needs_background": "light"
     },
     "output_type": "display_data"
    }
   ],
   "source": [
    "plt.plot(support,A,color=(255/255,100/255,100/255))\n",
    "plt.title(\"All frequent itemsets\") # title\n",
    "plt.ylabel(\"itemsets\") # y label\n",
    "plt.xlabel(\"Support\") # x label"
   ]
  },
  {
   "cell_type": "code",
   "execution_count": 27,
   "id": "ac9313f7",
   "metadata": {},
   "outputs": [
    {
     "data": {
      "text/plain": [
       "Text(0.5, 0, 'Support')"
      ]
     },
     "execution_count": 27,
     "metadata": {},
     "output_type": "execute_result"
    },
    {
     "data": {
      "image/png": "[encoded data removed]",
      "text/plain": [
       "<Figure size 432x288 with 1 Axes>"
      ]
     },
     "metadata": {
      "needs_background": "light"
     },
     "output_type": "display_data"
    }
   ],
   "source": [
    "plt.plot(support,C,color=(100/255,100/255,200/255))\n",
    "plt.title(\"Closed frequent itemsets\") # title\n",
    "plt.ylabel(\"itemsets\") # y label\n",
    "plt.xlabel(\"Support\") # x label"
   ]
  },
  {
   "cell_type": "code",
   "execution_count": 28,
   "id": "79686abd",
   "metadata": {},
   "outputs": [
    {
     "data": {
      "text/plain": [
       "Text(0.5, 0, 'Support')"
      ]
     },
     "execution_count": 28,
     "metadata": {},
     "output_type": "execute_result"
    },
    {
     "data": {
      "image/png": "[encoded data removed]",
      "text/plain": [
       "<Figure size 432x288 with 1 Axes>"
      ]
     },
     "metadata": {
      "needs_background": "light"
     },
     "output_type": "display_data"
    }
   ],
   "source": [
    "plt.plot(support,M,color=(100/255,200/255,100/255))\n",
    "plt.title(\"Max frequent itemsets\") # title\n",
    "plt.ylabel(\"itemsets\") # y label\n",
    "plt.xlabel(\"Support\") # x label"
   ]
  },
  {
   "cell_type": "code",
   "execution_count": null,
   "id": "1a9c2ffb",
   "metadata": {},
   "outputs": [],
   "source": []
  }
 ],
 "metadata": {
  "accelerator": "GPU",
  "colab": {
   "provenance": []
  },
  "gpuClass": "standard",
  "kernelspec": {
   "display_name": "Python 3 (ipykernel)",
   "language": "python",
   "name": "python3"
  },
  "language_info": {
   "codemirror_mode": {
    "name": "ipython",
    "version": 3
   },
   "file_extension": ".py",
   "mimetype": "text/x-python",
   "name": "python",
   "nbconvert_exporter": "python",
   "pygments_lexer": "ipython3",
   "version": "3.9.12"
  }
 },
 "nbformat": 4,
 "nbformat_minor": 5
}
